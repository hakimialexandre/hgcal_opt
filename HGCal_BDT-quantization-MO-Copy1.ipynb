{
 "cells": [
  {
   "cell_type": "code",
   "execution_count": 1,
   "metadata": {},
   "outputs": [],
   "source": [
    "import os\n",
    "import pandas as pd\n",
    "import numpy as np\n",
    "from matplotlib import pyplot as plt\n",
    "import seaborn as sns\n",
    "from sklearn import metrics\n",
    "import xgboost as xgb\n",
    "import matplotlib\n",
    "import torch\n",
    "import torch.utils.data as data_utils\n",
    "import torch.nn as nn\n",
    "import tensorflow as tf\n",
    "import imblearn\n",
    "from sklearn.model_selection import train_test_split\n",
    "import collections\n",
    "from sklearn.metrics import roc_curve, auc"
   ]
  },
  {
   "cell_type": "code",
   "execution_count": 2,
   "metadata": {},
   "outputs": [],
   "source": [
    "date='16Mar2021'\n",
    "dir_name='/preprocessing/200PU_2806'\n",
    "workdir=os.getcwd()\n",
    "files_dir='/data_cms_upgrade/hakimi'\n",
    "os.makedirs(workdir+dir_name, exist_ok=True)\n",
    "data_dir=workdir+dir_name\n",
    "signal='elec'\n",
    "bkg = 'pions'\n",
    "savedir = workdir + '/moo/'+ bkg + '/'\n",
    "os.makedirs(savedir, exist_ok=True)"
   ]
  },
  {
   "cell_type": "code",
   "execution_count": 3,
   "metadata": {},
   "outputs": [
    {
     "data": {
      "text/plain": [
       "'pions'"
      ]
     },
     "execution_count": 3,
     "metadata": {},
     "output_type": "execute_result"
    }
   ],
   "source": [
    "bkg"
   ]
  },
  {
   "cell_type": "code",
   "execution_count": 4,
   "metadata": {},
   "outputs": [
    {
     "name": "stdout",
     "output_type": "stream",
     "text": [
      "done\n",
      "CPU times: user 6.52 s, sys: 585 ms, total: 7.11 s\n",
      "Wall time: 7.13 s\n"
     ]
    }
   ],
   "source": [
    "%%time\n",
    "columns=['genpart_exeta',\n",
    "         'genpart_pt',\n",
    " 'cl3d_pt',\n",
    " 'cl3d_eta',\n",
    " 'cl3d_showerlength',\n",
    " 'cl3d_coreshowerlength',\n",
    " 'cl3d_firstlayer',\n",
    " 'cl3d_maxlayer',\n",
    " 'cl3d_seetot',\n",
    " 'cl3d_seemax',\n",
    " 'cl3d_spptot',\n",
    " 'cl3d_sppmax',\n",
    " 'cl3d_szz',\n",
    " 'cl3d_srrtot',\n",
    " 'cl3d_srrmax',\n",
    " 'cl3d_srrmean',\n",
    " 'cl3d_emaxe',\n",
    " 'cl3d_hoe',\n",
    " 'cl3d_meanz',\n",
    " 'cl3d_layer10',\n",
    " 'cl3d_layer50',\n",
    " 'cl3d_layer90',\n",
    " 'cl3d_ntc67',\n",
    " 'cl3d_ntc90',\n",
    " 'layer',\n",
    " 'sample',\n",
    "  'matches',\n",
    "         \n",
    "        ]\n",
    "\n",
    "\n",
    "df_sig= pd.read_csv(data_dir+'/{}.csv'.format(signal), usecols=columns, low_memory=True)\n",
    "if bkg == 'QCD':\n",
    "    columns =['event', 'genjet_n', 'genjet_energy', 'genjet_pt', 'genjet_eta',\n",
    "       'genjet_phi', 'cl3d_pt', 'cl3d_energy', 'cl3d_eta',\n",
    "       'cl3d_phi', \n",
    "       'cl3d_showerlength', 'cl3d_coreshowerlength', 'cl3d_firstlayer',\n",
    "       'cl3d_maxlayer', 'cl3d_seetot', 'cl3d_seemax', 'cl3d_spptot',\n",
    "       'cl3d_sppmax', 'cl3d_szz', 'cl3d_srrtot', 'cl3d_srrmax', 'cl3d_srrmean',\n",
    "       'cl3d_emaxe', 'cl3d_hoe', 'cl3d_meanz', 'cl3d_layer10', 'cl3d_layer50',\n",
    "       'cl3d_layer90', 'cl3d_ntc67', 'cl3d_ntc90', 'layer', 'deta', 'dphi',\n",
    "       'deltar', 'matches',]\n",
    "elif bkg == 'PU':\n",
    "    columns = ['event', 'cl3d_pt', 'cl3d_energy', 'cl3d_eta', 'cl3d_phi', \n",
    "       'cl3d_showerlength', 'cl3d_coreshowerlength', 'cl3d_firstlayer',\n",
    "       'cl3d_maxlayer', 'cl3d_seetot', 'cl3d_seemax', 'cl3d_spptot',\n",
    "       'cl3d_sppmax', 'cl3d_szz', 'cl3d_srrtot', 'cl3d_srrmax', 'cl3d_srrmean',\n",
    "       'cl3d_emaxe', 'cl3d_hoe', 'cl3d_meanz', 'cl3d_layer10', 'cl3d_layer50',\n",
    "       'cl3d_layer90', 'cl3d_ntc67', 'cl3d_ntc90', 'layer',]\n",
    "\n",
    "df_bkg= pd.read_csv(data_dir+'/{}.csv'.format(bkg), usecols=columns, low_memory=True)\n",
    "df_bkg['sample']=bkg\n",
    "\n",
    "print('done')"
   ]
  },
  {
   "cell_type": "code",
   "execution_count": null,
   "metadata": {},
   "outputs": [],
   "source": []
  },
  {
   "cell_type": "code",
   "execution_count": null,
   "metadata": {},
   "outputs": [],
   "source": []
  },
  {
   "cell_type": "code",
   "execution_count": null,
   "metadata": {},
   "outputs": [],
   "source": []
  },
  {
   "cell_type": "code",
   "execution_count": 5,
   "metadata": {},
   "outputs": [
    {
     "data": {
      "text/plain": [
       "\"df['genpart_exeta'][df['sample']=='PU']=0\\ndf['genpart_pt'][df['sample']=='PU']=0\\ndf['matches'][df['sample']=='PU']=0\""
      ]
     },
     "execution_count": 5,
     "metadata": {},
     "output_type": "execute_result"
    }
   ],
   "source": [
    "\"\"\"df['genpart_exeta'][df['sample']=='PU']=0\n",
    "df['genpart_pt'][df['sample']=='PU']=0\n",
    "df['matches'][df['sample']=='PU']=0\"\"\""
   ]
  },
  {
   "cell_type": "markdown",
   "metadata": {},
   "source": [
    "# Config"
   ]
  },
  {
   "cell_type": "code",
   "execution_count": 6,
   "metadata": {},
   "outputs": [],
   "source": [
    "genptcut=20\n",
    "cl3dptcut=5\n",
    "PU_cut = 20\n",
    "etamin=1.6\n",
    "etamax=2.9\n",
    "#bkg='QCD' # 'pions' or 'PU'\n",
    "standardize = \"_unstandardized\"\n",
    "feature_set=16 # 1: baseline 4: minimal, 10-13 + new vars (12 -> PU 13-> pions)\n",
    "opti=False\n",
    "res_dir=workdir+'/res/res_pt{}_vs{}_featset{}{}'.format(genptcut, bkg, feature_set, standardize)\n",
    "os.makedirs(res_dir, exist_ok=True)"
   ]
  },
  {
   "cell_type": "code",
   "execution_count": 7,
   "metadata": {},
   "outputs": [],
   "source": [
    "from collections import Counter\n",
    "count=Counter"
   ]
  },
  {
   "cell_type": "code",
   "execution_count": 8,
   "metadata": {},
   "outputs": [
    {
     "name": "stdout",
     "output_type": "stream",
     "text": [
      "Counter({'elec': 207350, 'pions': 6756})\n",
      "CPU times: user 315 ms, sys: 93.9 ms, total: 408 ms\n",
      "Wall time: 408 ms\n"
     ]
    },
    {
     "name": "stderr",
     "output_type": "stream",
     "text": [
      "/opt/exp_soft/llr/python/3.7.0/el7/lib/python3.7/site-packages/ipykernel_launcher.py:7: SettingWithCopyWarning: \n",
      "A value is trying to be set on a copy of a slice from a DataFrame\n",
      "\n",
      "See the caveats in the documentation: http://pandas.pydata.org/pandas-docs/stable/indexing.html#indexing-view-versus-copy\n",
      "  import sys\n",
      "/opt/exp_soft/llr/python/3.7.0/el7/lib/python3.7/site-packages/ipykernel_launcher.py:17: SettingWithCopyWarning: \n",
      "A value is trying to be set on a copy of a slice from a DataFrame\n",
      "\n",
      "See the caveats in the documentation: http://pandas.pydata.org/pandas-docs/stable/indexing.html#indexing-view-versus-copy\n"
     ]
    }
   ],
   "source": [
    "%%time\n",
    "df_sig['abseta']=np.abs(df_sig['cl3d_eta'])\n",
    "df_bkg['abseta']=np.abs(df_bkg['cl3d_eta'])\n",
    "sel = ((np.abs(df_sig['genpart_exeta'])>etamin) & (np.abs(df_sig['genpart_exeta'])<etamax )\n",
    "       & (df_sig['genpart_pt']>genptcut)&  (df_sig['cl3d_pt']>cl3dptcut) \n",
    "       &(df_sig['abseta']>etamin) & (df_sig['abseta']<etamax ))\n",
    "df_sig_cut=df_sig[sel]\n",
    "df_sig_cut.dropna(inplace=True)\n",
    "if bkg == 'QCD':\n",
    "    sel = ((np.abs(df_bkg['cl3d_eta'])>etamin) & (np.abs(df_bkg['cl3d_eta'])<etamax )&(df_bkg['cl3d_pt']>cl3dptcut))\n",
    "if bkg == 'pions':\n",
    "    sel =  ((np.abs(df_bkg['genpart_exeta'])>etamin) & (np.abs(df_bkg['genpart_exeta'])<etamax )\n",
    "       & (df_bkg['genpart_pt']>genptcut)&  (df_bkg['cl3d_pt']>cl3dptcut) \n",
    "       &(df_bkg['abseta']>etamin) & (df_bkg['abseta']<etamax ))\n",
    "if bkg == 'PU':\n",
    "    sel = ((np.abs(df_bkg['cl3d_eta'])>etamin) & (np.abs(df_bkg['cl3d_eta'])<etamax )&(df_bkg['cl3d_pt']>PU_cut))\n",
    "df_bkg_cut=df_bkg[sel]\n",
    "df_bkg_cut.dropna(inplace=True)\n",
    "df_cut= df_sig_cut.append(df_bkg_cut)\n",
    "print(count(df_cut['sample']))"
   ]
  },
  {
   "cell_type": "code",
   "execution_count": null,
   "metadata": {},
   "outputs": [],
   "source": []
  },
  {
   "cell_type": "code",
   "execution_count": 9,
   "metadata": {},
   "outputs": [
    {
     "name": "stdout",
     "output_type": "stream",
     "text": [
      "cl3d eta cut: 214106 207350\n",
      "done\n",
      "done layering36\n",
      "CPU times: user 2min 48s, sys: 7.22 s, total: 2min 55s\n",
      "Wall time: 2min 55s\n"
     ]
    }
   ],
   "source": [
    "%%time\n",
    "#cut\n",
    "algo_cut={}\n",
    "\n",
    "def tolist(x):\n",
    "    x.test=x.layer[1:-1].split(',')\n",
    "    return x.test\n",
    "\n",
    "\n",
    "\n",
    "#cut on cl3deta\n",
    "df_cut['abseta']=np.abs(df_cut['cl3d_eta'])\n",
    "sel=(df_cut['abseta']>etamin) & (df_cut['abseta']<etamax)\n",
    "df_cut=df_cut[sel]\n",
    "print('cl3d eta cut:', len(df_cut), len(df_cut[df_cut['sample']=='elec']))\n",
    "#print('PU: ', len(df_cut[df_cut['sample']=='PU']))\n",
    "#layer_pt preproc\n",
    "df_cut['layer_pt']=df_cut.apply(tolist, axis=1)\n",
    "df_cut.drop('layer', axis=1, inplace=True)\n",
    "print(\"done\")\n",
    "def layering (x):\n",
    "    return float(x.layer_pt[n])\n",
    "\n",
    "##besoin de créer une variable par layer?\n",
    "algo_layer={}\n",
    "n_layers=len(df_cut['layer_pt'].iloc[0])\n",
    "#print(n_layers)\n",
    "layer_columns=[]\n",
    "\n",
    "for n in range(n_layers):\n",
    "    print('layering: {}/{}\\r'.format(n+1,n_layers),end='', flush=True)\n",
    "    df_cut['layer_{}'.format(n)]=df_cut.apply(layering, axis=1)\n",
    "    layer_columns.append('layer_{}'.format(n))\n",
    "print(\"done layering\")\n",
    "\n"
   ]
  },
  {
   "cell_type": "code",
   "execution_count": 10,
   "metadata": {},
   "outputs": [
    {
     "data": {
      "text/plain": [
       "Counter({'elec': 207350, 'pions': 6756})"
      ]
     },
     "execution_count": 10,
     "metadata": {},
     "output_type": "execute_result"
    }
   ],
   "source": [
    "Counter(df_cut['sample'])"
   ]
  },
  {
   "cell_type": "code",
   "execution_count": 11,
   "metadata": {},
   "outputs": [],
   "source": [
    "# build new vars\n",
    "\n",
    "#abseta\n",
    "#df_cut['abseta']=np.abs(df_cut['cl3d_eta'])\n",
    "\n",
    "#variance\n",
    "df_cut['varee']=df_cut['cl3d_seetot']**2\n",
    "df_cut['varpp']=df_cut['cl3d_spptot']**2\n",
    "df_cut['varzz']=df_cut['cl3d_szz']**2\n",
    "df_cut['varrr']=df_cut['cl3d_srrtot']**2\n",
    "\n",
    "#EoT: pt(Ecal)/pt(Tot)\n",
    "nLayerEcal= 14\n",
    "sumE=0\n",
    "\n",
    "sumT=0\n",
    "for i in range(n_layers):\n",
    "    #print('Totlayer_{}'.format(i))\n",
    "    sumT+=df_cut['layer_{}'.format(i)]\n",
    "    \n",
    "    \n",
    "for i in range(1,nLayerEcal+1):\n",
    "    #print('Ecal layer_{}'.format(i))\n",
    "    sumE+=df_cut['layer_{}'.format(i)]\n",
    "df_cut['EoT']=sumE/sumT\n",
    "\n",
    "#fraction of pt in first x  layers and last x layers\n",
    "maxfirst = 5\n",
    "maxlast=10\n",
    "\n",
    "for n in range(1,maxfirst+1):\n",
    "    Sum=0\n",
    "    for i in range(1,n+1):\n",
    "        Sum+=df_cut['layer_{}'.format(i)]\n",
    "    df_cut['first_{}'.format(n)]= Sum/sumT\n",
    "    \n",
    "for n in range(1,maxlast):\n",
    "    Sum=0\n",
    "    #print(n, ' layers')\n",
    "    for i in range(n_layers - n, n_layers):\n",
    "        #print(n,i)\n",
    "        Sum+=df_cut['layer_{}'.format(i)]\n",
    "    #print('last_{}'.format(n), sum/sumT)\n",
    "    df_cut['last_{}'.format(n)]= Sum/sumT\n",
    "    \n",
    "    \n",
    "\n",
    "for n in range(1,maxfirst+1):\n",
    "    Sum=0\n",
    "    for i in range(1,n+1):\n",
    "        #print('layer_{}'.format(nLayerEcal+i))\n",
    "        Sum+=df_cut['layer_{}'.format(nLayerEcal+i)]\n",
    "    df_cut['firstHcal_{}'.format(n)]= Sum/sumT\n",
    "    \n",
    "    \n",
    "# Emaxx : pt in x layers around Elec max layer (5)\n",
    "maxpos=5\n",
    "\n",
    "#print('emax_1')\n",
    "Sum=0\n",
    "Sum+=df_cut['layer_{}'.format(maxpos)]\n",
    "df_cut['Emax_1']=Sum/sumT\n",
    " \n",
    "#print('emax_2L')\n",
    "Sum=0\n",
    "for i in range(maxpos-1, maxpos+1):\n",
    "    #print(i)\n",
    "    Sum+=df_cut['layer_{}'.format(i)]\n",
    "    df_cut['Emax_2L']=Sum/sumT\n",
    "    \n",
    "#print('emax_2R')\n",
    "Sum=0\n",
    "for i in range(maxpos, maxpos+2):\n",
    "    #print(i)\n",
    "    Sum+=df_cut['layer_{}'.format(i)]\n",
    "    df_cut['Emax_2R']=Sum/sumT\n",
    "    \n",
    "#print('emax_3')\n",
    "Sum=0\n",
    "for i in range(maxpos-1, maxpos+2):\n",
    "    #print(i)\n",
    "    Sum+=df_cut['layer_{}'.format(i)]\n",
    "    df_cut['Emax_3']=Sum/sumT\n",
    "#print('emax_4G')\n",
    "Sum=0\n",
    "for i in range(maxpos-2, maxpos+2):\n",
    "    #print(i)\n",
    "    Sum+=df_cut['layer_{}'.format(i)]\n",
    "    df_cut['Emax_4L']=Sum/sumT\n",
    "#print('emax_4R')\n",
    "Sum=0\n",
    "for i in range(maxpos-1, maxpos+3):\n",
    "    #print(i)\n",
    "    Sum+=df_cut['layer_{}'.format(i)]\n",
    "    df_cut['Emax_4R']=Sum/sumT\n",
    "#print('emax_5')\n",
    "Sum=0\n",
    "for i in range(maxpos-2, maxpos+3):\n",
    "    #print(i)\n",
    "    Sum+=df_cut['layer_{}'.format(i)]\n",
    "    df_cut['Emax_5']=Sum/sumT\n",
    "    \n",
    "    \n",
    "    "
   ]
  },
  {
   "cell_type": "code",
   "execution_count": 12,
   "metadata": {},
   "outputs": [
    {
     "name": "stdout",
     "output_type": "stream",
     "text": [
      "CPU times: user 2min 42s, sys: 4.82 s, total: 2min 47s\n",
      "Wall time: 2min 43s\n"
     ]
    }
   ],
   "source": [
    "%%time\n",
    "#do bitmaps with group\n",
    "def ebm0(x):\n",
    "    ebm=[]\n",
    "    thr=0\n",
    "    for i in range(1,nLayerEcal+1):\n",
    "        #print(float(x.layer_pt[i])>thr)\n",
    "        ebm.append(int(float(x.layer_pt[i])>thr)) \n",
    "    #print(ebm)\n",
    "    return(np.array(ebm).dot(2**np.arange(len(ebm))[::-1]))\n",
    "def ebm1(x):\n",
    "    ebm=[]\n",
    "    thr=1\n",
    "    for i in range(1,nLayerEcal+1):\n",
    "        #print(float(x.layer_pt[i])>thr)\n",
    "        ebm.append(int(float(x.layer_pt[i])>thr)) \n",
    "    #print(ebm)\n",
    "    return(np.array(ebm).dot(2**np.arange(len(ebm))[::-1]))\n",
    "def hbm(x):\n",
    "    ebm=[]\n",
    "    thr=0\n",
    "    for i in range(nLayerEcal+1,n_layers):\n",
    "        #print(float(x.layer_pt[i])>thr)\n",
    "        ebm.append(int(float(x.layer_pt[i])>thr)) \n",
    "    #print(ebm)\n",
    "    return(np.array(ebm).dot(2**np.arange(len(ebm))[::-1]))\n",
    "        \n",
    "df_cut['ebm0']=df_cut.apply(ebm0, axis=1)\n",
    "df_cut['ebm1']=df_cut.apply(ebm1, axis=1)\n",
    "df_cut['hbm']=df_cut.apply(hbm, axis=1)"
   ]
  },
  {
   "cell_type": "code",
   "execution_count": null,
   "metadata": {},
   "outputs": [],
   "source": []
  },
  {
   "cell_type": "code",
   "execution_count": 13,
   "metadata": {},
   "outputs": [],
   "source": [
    "# try in last lay -> first"
   ]
  },
  {
   "cell_type": "code",
   "execution_count": 14,
   "metadata": {},
   "outputs": [
    {
     "name": "stdout",
     "output_type": "stream",
     "text": [
      "done\n",
      "CPU times: user 2min 45s, sys: 5.45 s, total: 2min 51s\n",
      "Wall time: 2min 47s\n"
     ]
    }
   ],
   "source": [
    "%%time\n",
    "#do bitmaps with group\n",
    "def reverse_ebm0(x):\n",
    "    ebm=[]\n",
    "    thr=0\n",
    "    for i in range(nLayerEcal, 0, -1):\n",
    "        #print(float(x.layer_pt[i])>thr)\n",
    "        ebm.append(int(float(x.layer_pt[i])>thr)) \n",
    "    #print(ebm)\n",
    "    return(np.array(ebm).dot(2**np.arange(len(ebm))[::-1]))\n",
    "def reverse_ebm1(x):\n",
    "    ebm=[]\n",
    "    thr=1\n",
    "    for i in range(nLayerEcal, 0, -1):\n",
    "        #print(float(x.layer_pt[i])>thr)\n",
    "        ebm.append(int(float(x.layer_pt[i])>thr)) \n",
    "    #print(ebm)\n",
    "    return(np.array(ebm).dot(2**np.arange(len(ebm))[::-1]))\n",
    "def reverse_hbm(x):\n",
    "    ebm=[]\n",
    "    thr=0\n",
    "    for i in range(n_layers-1,nLayerEcal-1, -1):\n",
    "        #print(float(x.layer_pt[i])>thr)\n",
    "        ebm.append(int(float(x.layer_pt[i])>thr)) \n",
    "    #print(ebm)\n",
    "    return(np.array(ebm).dot(2**np.arange(len(ebm))[::-1]))\n",
    "        \n",
    "df_cut['reverse_ebm0']=df_cut.apply(reverse_ebm0, axis=1)\n",
    "df_cut['reverse_ebm1']=df_cut.apply(reverse_ebm1, axis=1)\n",
    "df_cut['reverse_hbm']=df_cut.apply(reverse_hbm, axis=1)\n",
    "print('done')"
   ]
  },
  {
   "cell_type": "code",
   "execution_count": 15,
   "metadata": {},
   "outputs": [],
   "source": [
    "#bitmap: for quantization, group layers\n",
    "# max 16 bits (in realityn, 14 layers for ebm -> 14bits)\n",
    "# possibilities: 7 bits (/2), 5 bist(/3), 4 bits(/4), 3bits(/5), 2 bits (/7)\n",
    "x=df_cut.iloc[0]    \n",
    "ebm=[]\n",
    "thr=0\n",
    "\n",
    "for i in range(1,nLayerEcal+1):\n",
    "    #print(float(x.layer_pt[i])>thr)\n",
    "    ebm.append(int(float(x['layer_pt'][i])>thr)) \n",
    "#print(ebm)"
   ]
  },
  {
   "cell_type": "code",
   "execution_count": null,
   "metadata": {},
   "outputs": [],
   "source": []
  },
  {
   "cell_type": "code",
   "execution_count": 16,
   "metadata": {},
   "outputs": [
    {
     "data": {
      "text/plain": [
       "array([1, 0, 1, 1, 0, 1, 1, 1, 0, 1, 0, 0, 1, 1])"
      ]
     },
     "execution_count": 16,
     "metadata": {},
     "output_type": "execute_result"
    }
   ],
   "source": [
    "np.random.choice(a=[0, 1], size=14)  "
   ]
  },
  {
   "cell_type": "code",
   "execution_count": 17,
   "metadata": {},
   "outputs": [
    {
     "name": "stdout",
     "output_type": "stream",
     "text": [
      "['genpart_exeta', 'genpart_pt', 'cl3d_pt', 'cl3d_eta', 'cl3d_showerlength', 'cl3d_coreshowerlength', 'cl3d_firstlayer', 'cl3d_maxlayer', 'cl3d_seetot', 'cl3d_seemax', 'cl3d_spptot', 'cl3d_sppmax', 'cl3d_szz', 'cl3d_srrtot', 'cl3d_srrmax', 'cl3d_srrmean', 'cl3d_emaxe', 'cl3d_hoe', 'cl3d_meanz', 'cl3d_layer10', 'cl3d_layer50', 'cl3d_layer90', 'cl3d_ntc67', 'cl3d_ntc90', 'matches', 'sample', 'abseta', 'layer_pt', 'layer_0', 'layer_1', 'layer_2', 'layer_3', 'layer_4', 'layer_5', 'layer_6', 'layer_7', 'layer_8', 'layer_9', 'layer_10', 'layer_11', 'layer_12', 'layer_13', 'layer_14', 'layer_15', 'layer_16', 'layer_17', 'layer_18', 'layer_19', 'layer_20', 'layer_21', 'layer_22', 'layer_23', 'layer_24', 'layer_25', 'layer_26', 'layer_27', 'layer_28', 'layer_29', 'layer_30', 'layer_31', 'layer_32', 'layer_33', 'layer_34', 'layer_35', 'varee', 'varpp', 'varzz', 'varrr', 'EoT', 'first_1', 'first_2', 'first_3', 'first_4', 'first_5', 'last_1', 'last_2', 'last_3', 'last_4', 'last_5', 'last_6', 'last_7', 'last_8', 'last_9', 'firstHcal_1', 'firstHcal_2', 'firstHcal_3', 'firstHcal_4', 'firstHcal_5', 'Emax_1', 'Emax_2L', 'Emax_2R', 'Emax_3', 'Emax_4L', 'Emax_4R', 'Emax_5', 'ebm0', 'ebm1', 'hbm', 'reverse_ebm0', 'reverse_ebm1', 'reverse_hbm']\n"
     ]
    }
   ],
   "source": [
    "print(df_cut.columns.tolist())"
   ]
  },
  {
   "cell_type": "code",
   "execution_count": null,
   "metadata": {},
   "outputs": [],
   "source": []
  },
  {
   "cell_type": "code",
   "execution_count": null,
   "metadata": {},
   "outputs": [],
   "source": []
  },
  {
   "cell_type": "code",
   "execution_count": 18,
   "metadata": {},
   "outputs": [],
   "source": [
    "\n",
    "\n",
    "if bkg == 'pions':\n",
    "    name = 'minimal w/ var & best pions '\n",
    "    features =['abseta', 'cl3d_firstlayer', 'varee', 'varpp', 'varzz', 'varrr',\n",
    "                 'cl3d_meanz', 'cl3d_showerlength','cl3d_coreshowerlength','EoT',\n",
    "                'Emax_5', 'ebm1', 'Emax_4R', 'hbm', 'firstHcal_1', 'reverse_ebm1']\n",
    "    \n",
    "        \n",
    "elif bkg == 'PU':\n",
    "    name = 'minimal w/ var & best PU '\n",
    "    features = ['abseta', 'cl3d_firstlayer', 'varee', 'varpp', 'varzz', 'varrr',\n",
    "                 'cl3d_meanz', 'cl3d_showerlength','cl3d_coreshowerlength', 'EoT',\n",
    "                'firstHcal_5', 'Emax_4R', 'ebm1', 'Emax_2R', 'firstHcal_1', 'Emax_5']\n",
    "    \n",
    "elif bkg == 'QCD':\n",
    "    name = 'minimal w/ var & best QCD '\n",
    "    features=  ['abseta', 'cl3d_firstlayer', 'varee', 'varpp', 'varzz', 'varrr',\n",
    "                 'cl3d_meanz', 'cl3d_showerlength','cl3d_coreshowerlength', 'EoT','ebm1', 'Emax_4R',\n",
    "                'reverse_ebm1', 'first_2', 'Emax_2R', 'Emax_5', \n",
    "                ]\n",
    "    "
   ]
  },
  {
   "cell_type": "code",
   "execution_count": null,
   "metadata": {},
   "outputs": [],
   "source": []
  },
  {
   "cell_type": "code",
   "execution_count": 19,
   "metadata": {},
   "outputs": [
    {
     "name": "stderr",
     "output_type": "stream",
     "text": [
      "/opt/exp_soft/llr/python/3.7.0/el7/lib/python3.7/site-packages/ipykernel_launcher.py:6: SettingWithCopyWarning: \n",
      "A value is trying to be set on a copy of a slice from a DataFrame\n",
      "\n",
      "See the caveats in the documentation: http://pandas.pydata.org/pandas-docs/stable/indexing.html#indexing-view-versus-copy\n",
      "  \n",
      "/opt/exp_soft/llr/python/3.7.0/el7/lib/python3.7/site-packages/ipykernel_launcher.py:7: SettingWithCopyWarning: \n",
      "A value is trying to be set on a copy of a slice from a DataFrame\n",
      "\n",
      "See the caveats in the documentation: http://pandas.pydata.org/pandas-docs/stable/indexing.html#indexing-view-versus-copy\n",
      "  import sys\n"
     ]
    },
    {
     "name": "stdout",
     "output_type": "stream",
     "text": [
      "pions\n",
      "signal weight = 1.032582589823969, bkg weight =31.691237418590884\n"
     ]
    },
    {
     "name": "stderr",
     "output_type": "stream",
     "text": [
      "/opt/exp_soft/llr/python/3.7.0/el7/lib/python3.7/site-packages/ipykernel_launcher.py:19: SettingWithCopyWarning: \n",
      "A value is trying to be set on a copy of a slice from a DataFrame\n",
      "\n",
      "See the caveats in the documentation: http://pandas.pydata.org/pandas-docs/stable/indexing.html#indexing-view-versus-copy\n"
     ]
    }
   ],
   "source": [
    "#chose signal and background\n",
    "#weight calc\n",
    "\n",
    "df_cut['signal']= 5\n",
    "df_cut['weight']=0\n",
    "df_cut['signal'][df_cut['sample']=='elec']= 1\n",
    "df_cut['signal'][df_cut['sample']!='elec'] = 0\n",
    "\n",
    "if bkg == 'pions':\n",
    "    print('pions')\n",
    "\n",
    "    data=df_cut[df_cut['sample']!='PU']\n",
    "    tot_event=len(data)\n",
    "    sig_event=len(data[data['sample']=='elec'])\n",
    "    bkg_event=len(data[data['sample']=='pions'])\n",
    "    ws=tot_event/sig_event\n",
    "    wb=tot_event/bkg_event\n",
    "    #print(ws)\n",
    "    data['weight'][data['signal']==0]=wb\n",
    "    #print(np.unique(data['weight']))\n",
    "\n",
    "    #print(wb)\n",
    "    data['weight'][data['signal']==1]=ws\n",
    "    #print(np.unique(data['weight']))\n",
    "elif bkg == 'QCD':\n",
    "    print('QCD')\n",
    "\n",
    "    data=df_cut\n",
    "    tot_event=len(data)\n",
    "    sig_event=len(data[data['sample']=='elec'])\n",
    "    bkg_event=len(data[data['sample']=='QCD'])\n",
    "    ws=tot_event/sig_event\n",
    "    wb=tot_event/bkg_event\n",
    "    #print(ws)\n",
    "    data['weight'][data['signal']==0]=wb\n",
    "    #print(np.unique(data['weight']))\n",
    "\n",
    "    #print(wb)\n",
    "    data['weight'][data['signal']==1]=ws\n",
    "    #print(np.unique(data['weight']))\n",
    "\n",
    "elif bkg == 'PU':\n",
    "    print('PU')\n",
    "    data=df_cut[df_cut['sample']!='pion']\n",
    "    tot_event=len(data)\n",
    "    sig_event=len(data[data['sample']=='elec'])\n",
    "    bkg_event=len(data[data['sample']=='PU'])\n",
    "    ws=tot_event/sig_event\n",
    "    wb=tot_event/bkg_event\n",
    "\n",
    "    data['weight'][data['signal']==0]=wb\n",
    "    data['weight'][data['signal']==1]=ws\n",
    "print('signal weight = {}, bkg weight ={}'.format(ws, wb))"
   ]
  },
  {
   "cell_type": "code",
   "execution_count": null,
   "metadata": {},
   "outputs": [],
   "source": []
  },
  {
   "cell_type": "code",
   "execution_count": 20,
   "metadata": {},
   "outputs": [],
   "source": [
    "import matplotlib\n",
    "font = {'family' : 'normal',\n",
    "        'weight' : 'normal',\n",
    "        'size'   : 18}\n",
    "\n",
    "matplotlib.rc('font', **font)"
   ]
  },
  {
   "cell_type": "code",
   "execution_count": 21,
   "metadata": {},
   "outputs": [],
   "source": [
    "balancing='comb' #'SMOTE', 'weights', 'ada', 'under', 'comb'"
   ]
  },
  {
   "cell_type": "code",
   "execution_count": 22,
   "metadata": {},
   "outputs": [],
   "source": [
    "Counter= collections.Counter"
   ]
  },
  {
   "cell_type": "code",
   "execution_count": 23,
   "metadata": {},
   "outputs": [
    {
     "name": "stdout",
     "output_type": "stream",
     "text": [
      "['genpart_exeta', 'genpart_pt', 'cl3d_pt', 'cl3d_eta', 'cl3d_showerlength', 'cl3d_coreshowerlength', 'cl3d_firstlayer', 'cl3d_maxlayer', 'cl3d_seetot', 'cl3d_seemax', 'cl3d_spptot', 'cl3d_sppmax', 'cl3d_szz', 'cl3d_srrtot', 'cl3d_srrmax', 'cl3d_srrmean', 'cl3d_emaxe', 'cl3d_hoe', 'cl3d_meanz', 'cl3d_layer10', 'cl3d_layer50', 'cl3d_layer90', 'cl3d_ntc67', 'cl3d_ntc90', 'matches', 'sample', 'abseta', 'layer_pt', 'layer_0', 'layer_1', 'layer_2', 'layer_3', 'layer_4', 'layer_5', 'layer_6', 'layer_7', 'layer_8', 'layer_9', 'layer_10', 'layer_11', 'layer_12', 'layer_13', 'layer_14', 'layer_15', 'layer_16', 'layer_17', 'layer_18', 'layer_19', 'layer_20', 'layer_21', 'layer_22', 'layer_23', 'layer_24', 'layer_25', 'layer_26', 'layer_27', 'layer_28', 'layer_29', 'layer_30', 'layer_31', 'layer_32', 'layer_33', 'layer_34', 'layer_35', 'varee', 'varpp', 'varzz', 'varrr', 'EoT', 'first_1', 'first_2', 'first_3', 'first_4', 'first_5', 'last_1', 'last_2', 'last_3', 'last_4', 'last_5', 'last_6', 'last_7', 'last_8', 'last_9', 'firstHcal_1', 'firstHcal_2', 'firstHcal_3', 'firstHcal_4', 'firstHcal_5', 'Emax_1', 'Emax_2L', 'Emax_2R', 'Emax_3', 'Emax_4L', 'Emax_4R', 'Emax_5', 'ebm0', 'ebm1', 'hbm', 'reverse_ebm0', 'reverse_ebm1', 'reverse_hbm', 'signal', 'weight']\n"
     ]
    }
   ],
   "source": [
    "print(data.columns.to_list())"
   ]
  },
  {
   "cell_type": "markdown",
   "metadata": {},
   "source": [
    "# Multi objective optimization"
   ]
  },
  {
   "cell_type": "markdown",
   "metadata": {},
   "source": [
    "## 1. Select genes\n",
    "Here the genesa re the different paramaters of the optimization, so the quantization paramaters for each feature (add 0 parameter for forgetting the feature?\n",
    "\n",
    "-> alleles for each gene is the number of bits [2-12], and for now method =qauntile\n",
    "-> add exception for discrete variables: 2**nbits <= range"
   ]
  },
  {
   "cell_type": "code",
   "execution_count": 24,
   "metadata": {},
   "outputs": [],
   "source": [
    "def maxbits(feat, maxbit):\n",
    "    if feat.dtype == 'float64':\n",
    "        return maxbit\n",
    "    elif feat.dtype =='int64':\n",
    "        nval = len(np.unique(feat))\n",
    "        print(nval)\n",
    "        for i in range(1,maxbit) : \n",
    "            if 2**i >= nval: return(i)\n",
    "        return(i)"
   ]
  },
  {
   "cell_type": "code",
   "execution_count": 25,
   "metadata": {},
   "outputs": [
    {
     "name": "stdout",
     "output_type": "stream",
     "text": [
      "665\n"
     ]
    },
    {
     "data": {
      "text/plain": [
       "10"
      ]
     },
     "execution_count": 25,
     "metadata": {},
     "output_type": "execute_result"
    }
   ],
   "source": [
    "maxbits(data['ebm1'],16)"
   ]
  },
  {
   "cell_type": "code",
   "execution_count": 26,
   "metadata": {},
   "outputs": [],
   "source": [
    "#change discrete functuions type to int\n",
    "discrete_cols = ['cl3d_showerlength','cl3d_coreshowerlength', 'cl3d_firstlayer', 'cl3d_maxlayer' ]\n",
    "data[discrete_cols]=data[discrete_cols].astype('int64')\n"
   ]
  },
  {
   "cell_type": "code",
   "execution_count": 27,
   "metadata": {},
   "outputs": [],
   "source": [
    "\n",
    "X_train, X_test, y_train, y_test = train_test_split(data[features], \n",
    "                                                    data[['signal','weight','cl3d_eta','cl3d_pt', 'genpart_pt', 'genpart_exeta']],\n",
    "                                                    test_size=0.2,random_state=42)\n",
    "train_untouched=xgb.DMatrix(data=X_train,label=y_train['signal'],feature_names=features)\n",
    "y_train_untouched=y_train\n",
    "X_train_untouched=X_train\n",
    "over_ratio = 0.2\n",
    "under_ratio = 0.5\n",
    "if bkg == 'QCD':\n",
    "    over_ratio = 0.8\n",
    "    under_ratio = 1\n",
    "over=imblearn.over_sampling.SMOTE(sampling_strategy=over_ratio, random_state=42)\n",
    "under= imblearn.under_sampling.RandomUnderSampler(sampling_strategy=under_ratio, random_state=42)\n",
    "X_train, y_train=over.fit_resample(X_train,y_train['signal'])\n",
    "X_train, y_train=under.fit_resample(X_train, y_train)\n",
    "y_train=pd.DataFrame(y_train)\n",
    "y_train['weight']=1\n",
    "\n"
   ]
  },
  {
   "cell_type": "code",
   "execution_count": null,
   "metadata": {},
   "outputs": [],
   "source": []
  },
  {
   "cell_type": "code",
   "execution_count": 28,
   "metadata": {},
   "outputs": [],
   "source": [
    "import pymoo\n",
    "#problem definition"
   ]
  },
  {
   "cell_type": "code",
   "execution_count": 29,
   "metadata": {},
   "outputs": [
    {
     "name": "stdout",
     "output_type": "stream",
     "text": [
      "nvar 16\n",
      "lower bounds [0, 0, 0, 0, 0, 0, 0, 0, 0, 0, 0, 0, 0, 0, 0, 0]\n",
      "17\n",
      "38\n",
      "33\n",
      "665\n",
      "42744\n",
      "665\n",
      "upper bounds [12, 5, 12, 12, 12, 12, 12, 6, 6, 12, 12, 10, 12, 11, 12, 10]\n"
     ]
    }
   ],
   "source": [
    "#nvar\n",
    "nvar = len (data[features].columns)\n",
    "print('nvar',nvar)\n",
    "\n",
    "#nobj\n",
    "nobj = 2 # efficiency and number of bits used\n",
    "\n",
    "#nconstr\n",
    "nconstr = 0\n",
    "\n",
    "bitmin= 0 #0 if we want to remove features\n",
    "\n",
    "# varaiables lower bound xl\n",
    "xl=[bitmin for feat in data[features].columns]\n",
    "print('lower bounds',xl)\n",
    "\n",
    "bitmax = 12\n",
    "#upper bound\n",
    "xu =[maxbits(data[feat], bitmax) for feat in data[features].columns]\n",
    "print ('upper bounds',xu)\n",
    "\n",
    "param = {\n",
    "        'nthread' : 8,\n",
    "        # Parameters that we are going to tune.\n",
    "        'max_depth':2,\n",
    "        'eta':0.1,\n",
    "        'subsample': 0.8,\n",
    "        'colsample_bytree': 0.8,\n",
    "        # Other parameters\n",
    "        'objective':'binary:logistic',\n",
    "        'eval_metric': 'auc', \n",
    "        'alpha':0.01,\n",
    "        'lambda':10,\n",
    "    }"
   ]
  },
  {
   "cell_type": "code",
   "execution_count": null,
   "metadata": {},
   "outputs": [],
   "source": []
  },
  {
   "cell_type": "code",
   "execution_count": 30,
   "metadata": {},
   "outputs": [],
   "source": [
    "# quantization\n",
    "\n",
    "def quantize(feat, nbits, method, fmin, fmax): #feat is the feature to quantize, nbist the number of bits, method: 'uniform' or 'percentile'\n",
    "    nbins= 2**nbits\n",
    "    if feat.dtype == 'float64':\n",
    "        method = method\n",
    "    elif feat.dtype == 'int64':\n",
    "        method = 'uniform'\n",
    "    if method == 'uniform':\n",
    "        bins=np.linspace(fmin, fmax, nbins+1)\n",
    "    elif method == 'percentile':\n",
    "        bins=[np.percentile(feat, n) for n in np.linspace(0,100,nbins+1)]\n",
    "    else :\n",
    "        print('Error: Invalid method')\n",
    "        return\n",
    "    \n",
    "    \n",
    "    #print(feat.dtype,nbits, method)\n",
    "    return np.digitize(feat, bins)\n",
    "\n",
    "def quantize_ebm0(x,nb):\n",
    "    qbm=[]\n",
    "    nlay=14\n",
    "    fuse_lay=int(np.ceil(nlay/nb))\n",
    "    print(\" nb\", nb)\n",
    "    bm = int(x.ebm0)\n",
    "    print('bm =', bm)\n",
    "    bm = list(bin(bm))[2:]\n",
    "    print('bits =', bm)\n",
    "    while len(bm) < nlay:\n",
    "        bm.insert(0,0)\n",
    "    print('bits(nlay)=', bm)\n",
    "    for j in range(0,14,fuse_lay):\n",
    "        val=0\n",
    "        #print(\"j\",j)\n",
    "        for k in range(fuse_lay):\n",
    "            #print(\"k\",k)\n",
    "            if j+k <=13:\n",
    "                val +=int(bm[j+k])\n",
    "        #print(\"val\", val)\n",
    "        qbm.append(int(val>0))\n",
    "    print(qbm)\n",
    "    return qbm\n",
    "\n",
    "\n",
    "def quantize_ebm1(x,nb):\n",
    "    qbm=[]\n",
    "    nlay=14\n",
    "    fuse_lay=int(np.ceil(nlay/nb))\n",
    "    print(\" nb\", nb)\n",
    "    bm = int(x.ebm1)\n",
    "    print('bm =', bm)\n",
    "    bm = list(bin(bm))[2:]\n",
    "    print('bits =', bm)\n",
    "    while len(bm) < nlay:\n",
    "        bm.insert(0,0)\n",
    "    print('bits(nlay)=', bm)\n",
    "    for j in range(0,14,fuse_lay):\n",
    "        val=0\n",
    "        #print(\"j\",j)\n",
    "        for k in range(fuse_lay):\n",
    "            #print(\"k\",k)\n",
    "            if j+k <=13:\n",
    "                val +=int(bm[j+k])\n",
    "        #print(\"val\", val)\n",
    "        qbm.append(int(val>0))\n",
    "    print(qbm)\n",
    "    return qbm\n",
    "def quantize_hbm(x,nb):\n",
    "    qbm=[]\n",
    "    nlay=21\n",
    "    fuse_lay=int(np.ceil(nlay/nb))\n",
    "    print(\" nb\", nb)\n",
    "    bm = int(x.hbm)\n",
    "    print('bm =', bm)\n",
    "    bm = list(bin(bm))[2:]\n",
    "    print('bits =', bm)\n",
    "    while len(bm) < nlay:\n",
    "        bm.insert(0,0)\n",
    "    print('bits(nlay)=', bm)\n",
    "    for j in range(0,nlay,fuse_lay):\n",
    "        val=0\n",
    "        #print(\"j\",j)\n",
    "        for k in range(fuse_lay):\n",
    "            #print(\"k\",k)\n",
    "            if j+k <=13:\n",
    "                val +=int(bm[j+k])\n",
    "        #print(\"val\", val)\n",
    "        qbm.append(int(val>0))\n",
    "    print(qbm)\n",
    "    return qbm\n",
    "def quantize_reverse_ebm0(x,nb):\n",
    "    qbm=[]\n",
    "    nlay=14\n",
    "    fuse_lay=int(np.ceil(nlay/nb))\n",
    "    print(\" nb\", nb)\n",
    "    bm = int(x.reverese_ebm0)\n",
    "    print('bm =', bm)\n",
    "    bm = list(bin(bm))[2:]\n",
    "    print('bits =', bm)\n",
    "    while len(bm) < nlay:\n",
    "        bm.insert(0,0)\n",
    "    print('bits(nlay)=', bm)\n",
    "    for j in range(0,14,fuse_lay):\n",
    "        val=0\n",
    "        #print(\"j\",j)\n",
    "        for k in range(fuse_lay):\n",
    "            #print(\"k\",k)\n",
    "            if j+k <=13:\n",
    "                val +=int(bm[j+k])\n",
    "        #print(\"val\", val)\n",
    "        qbm.append(int(val>0))\n",
    "    print(qbm)\n",
    "    return qbm\n",
    "def quantize_reverse_ebm1(x,nb):\n",
    "    qbm=[]\n",
    "    nlay=14\n",
    "    fuse_lay=int(np.ceil(nlay/nb))\n",
    "    print(\" nb\", nb)\n",
    "    bm =int(x.reverese_ebm1)\n",
    "    print('bm =', bm)\n",
    "    bm = list(bin(bm))[2:]\n",
    "    print('bits =', bm)\n",
    "    while len(bm) < nlay:\n",
    "        bm.insert(0,0)\n",
    "    print('bits(nlay)=', bm)\n",
    "    for j in range(0,14,fuse_lay):\n",
    "        val=0\n",
    "        #print(\"j\",j)\n",
    "        for k in range(fuse_lay):\n",
    "            #print(\"k\",k)\n",
    "            if j+k <=13:\n",
    "                val +=int(bm[j+k])\n",
    "        #print(\"val\", val)\n",
    "        qbm.append(int(val>0))\n",
    "    print(qbm)\n",
    "    return qbm\n",
    "def quantize_reverese_hbm(x,nb):\n",
    "    qbm=[]\n",
    "    nlay=21\n",
    "    fuse_lay=int(np.ceil(nlay/nb))\n",
    "    print(\" nb\", nb)\n",
    "    bm = int(x.reverse_hbm)\n",
    "    print('bm =', bm)\n",
    "    bm = list(bin(bm))[2:]\n",
    "    print('bits =', bm)\n",
    "    while len(bm) < nlay:\n",
    "        bm.insert(0,0)\n",
    "    print('bits(nlay)=', bm)\n",
    "    for j in range(0,nlay,fuse_lay):\n",
    "        val=0\n",
    "        #print(\"j\",j)\n",
    "        for k in range(fuse_lay):\n",
    "            #print(\"k\",k)\n",
    "            if j+k <=13:\n",
    "                val +=int(bm[j+k])\n",
    "        #print(\"val\", val)\n",
    "        qbm.append(int(val>0))\n",
    "    print(qbm)\n",
    "    return qbm"
   ]
  },
  {
   "cell_type": "code",
   "execution_count": 31,
   "metadata": {},
   "outputs": [
    {
     "data": {
      "text/plain": [
       "4    1310720\n",
       "Name: hbm, dtype: int64"
      ]
     },
     "execution_count": 31,
     "metadata": {},
     "output_type": "execute_result"
    }
   ],
   "source": [
    "df_cut.head(1)['hbm']"
   ]
  },
  {
   "cell_type": "code",
   "execution_count": 32,
   "metadata": {},
   "outputs": [
    {
     "name": "stdout",
     "output_type": "stream",
     "text": [
      "7.0\n"
     ]
    }
   ],
   "source": [
    "nlay=14\n",
    "nb=13\n",
    "\n",
    "print(nlay/int(np.ceil(nlay/nb)))"
   ]
  },
  {
   "cell_type": "code",
   "execution_count": 33,
   "metadata": {},
   "outputs": [],
   "source": [
    "def train_quantized(x):\n",
    "    qtrain=pd.DataFrame()\n",
    "    qtest=pd.DataFrame()\n",
    "    feat_kept=features.copy()\n",
    "    tot_bits= 0\n",
    "    for i,feat in enumerate(X_train.columns):\n",
    "        #print(\"feature :\", feat, \"quantized on {} bits\".format(x[i]))\n",
    "        if x[i]==0: #drop feat\n",
    "            #print(\"dropping {} from {}\".format(feat, feat_kept))\n",
    "            feat_kept.remove(feat)\n",
    "        elif 'bm' not in 'feat':\n",
    "            fmin, fmax= np.percentile(X_train[feat], 1),np.percentile(X_train[feat], 99)\n",
    "            qtrain[feat]=quantize(X_train[feat], x[i], 'uniform', fmin, fmax)\n",
    "            qtest[feat]=quantize(X_test[feat], x[i], 'uniform', fmin, fmax)\n",
    "            tot_bits += x[i]\n",
    "        elif feat == 'ebm0':\n",
    "            qtrain[feat]=X_train.apply(quantize_ebm0, nb = x[i], axis=1)\n",
    "            qtest[feat]=X_test.apply(quantize_ebm0, nb = x[i], axis=1)\n",
    "            nlay=14\n",
    "            bits=nlay/int(np.ceil(nlay/x[i]))\n",
    "            if bits > 0:\n",
    "                tot_bits += bits\n",
    "        elif feat == 'ebm1':\n",
    "            qtrain[feat]=X_train.apply(quantize_ebm1, nb = x[i], axis=1)\n",
    "            qtest[feat]=X_test.apply(quantize_ebm1, nb = x[i], axis=1)\n",
    "            nlay=14\n",
    "            bits=nlay/int(np.ceil(nlay/x[i]))\n",
    "            if bits > 0:\n",
    "                tot_bits += bits\n",
    "        elif feat == 'hbm':\n",
    "            qtrain[feat]=X_train.apply(quantize_hbm, nb = x[i], axis=1)\n",
    "            qtest[feat]=X_test.apply(quantize_hbm, nb = x[i], axis=1)\n",
    "            nlay=21\n",
    "            bits=nlay/int(np.ceil(nlay/x[i]))\n",
    "            tot_bits += nlay/int(np.ceil(nlay/x[i]))\n",
    "        elif feat == 'reverse_ebm0':\n",
    "            qtrain[feat]=X_train.apply(quantize_reverse_ebm0, nb = x[i], axis=1)\n",
    "            qtest[feat]=X_test.apply(quantize_reverse_ebm0, nb = x[i], axis=1)\n",
    "            nlay=14\n",
    "            bits=nlay/int(np.ceil(nlay/x[i]))\n",
    "            if bits > 0:\n",
    "                tot_bits += bits\n",
    "        elif feat == 'reverse_ebm1':\n",
    "            qtrain[feat]=X_train.apply(quantize_reverse_ebm1, nb = x[i], axis=1)\n",
    "            qtest[feat]=X_test.apply(quantize_reverse_ebm1, nb = x[i], axis=1)\n",
    "            nlay=14\n",
    "            bits=nlay/int(np.ceil(nlay/x[i]))\n",
    "            if bits > 0:\n",
    "                tot_bits += bits\n",
    "        elif feat == 'reverse_hbm':\n",
    "            qtrain[feat]=X_train.apply(quantize_reverse_hbm, nb = x[i], axis=1)\n",
    "            qtest[feat]=X_test.apply(quantize_reverse_hbm, nb = x[i], axis=1)\n",
    "            nlay=21\n",
    "            bits=nlay/int(np.ceil(nlay/x[i]))\n",
    "            if bits > 0:\n",
    "                tot_bits += bits\n",
    "    #print(\"test\")       \n",
    "    #print(qtrain.head(1))\n",
    "    train= xgb.DMatrix(data=qtrain,label=y_train['signal'], feature_names=feat_kept, weight=y_train['weight'])\n",
    "    test= xgb.DMatrix(data=qtest,label=y_test['signal'],feature_names=feat_kept)\n",
    "    #print(\"test2\")\n",
    "    #use gpu if available\n",
    "    gpu=tf.test.is_gpu_available(\n",
    "        cuda_only=False, min_cuda_compute_capability=None\n",
    "    )\n",
    "    if gpu==True:\n",
    "        param['tree_method']='gpu_hist'\n",
    "\n",
    "    num_boost_round=200\n",
    "    es_rounds=3\n",
    "\n",
    "    metrics={'logloss','auc'} #last one used for es\n",
    "    # set up cross validation:\n",
    "    #print('beginning cv')\n",
    "    cv_results = xgb.cv(\n",
    "        param,\n",
    "        train,\n",
    "        num_boost_round=num_boost_round,\n",
    "        seed=42,\n",
    "        nfold=5,\n",
    "        metrics=metrics,\n",
    "        #feval=SoverB,\n",
    "        early_stopping_rounds=es_rounds,\n",
    "        shuffle=True,\n",
    "        verbose_eval=None\n",
    "    )\n",
    "\n",
    "    ## we define best score as the best test_auc penalized by the gap between train and test auc\n",
    "    alpha=1 #(penalization)\n",
    "\n",
    "    best_score=(cv_results['test-auc-mean']-alpha*abs(cv_results['test-auc-mean']-cv_results['train-auc-mean'])).max()\n",
    "    boost_rounds = (cv_results['test-auc-mean']-alpha*abs(cv_results['test-auc-mean']-cv_results['train-auc-mean'])).argmax()\n",
    "    #Now train and fit best parameters BDT\n",
    "    eval_result = {}\n",
    "    BDT = xgb.train(\n",
    "        param,\n",
    "        train,\n",
    "        num_boost_round=int(boost_rounds),\n",
    "        #feval = SoverB,\n",
    "        evals=[(train, 'Train'),(test, \"Test\")],\n",
    "        evals_result = eval_result,\n",
    "        verbose_eval=None,\n",
    "    )\n",
    "    pred= BDT.predict(test)\n",
    "\n",
    "\n",
    "    fpr, tpr, threshold = roc_curve(y_test['signal'],pred, pos_label=1)\n",
    "    fpr.sort()\n",
    "    tpr.sort()\n",
    "    roc_test=pd.DataFrame({'tpr':tpr,'fpr':fpr, 'threshold':threshold})\n",
    "\n",
    "    #return bkg eff at 0.99 signal efficiency\n",
    "    #f1=np.interp(0.99,roc_test['tpr'],roc_test['fpr'])\n",
    "\n",
    "\n",
    "    #return auc at > cut sig eff\n",
    "    cut=0.8\n",
    "\n",
    "    roc_thr=roc_test[roc_test['tpr']>0.8]\n",
    "    if len(roc_thr)>3:\n",
    "        f1= (-1)*auc(roc_thr['fpr'], roc_thr['tpr']) # negative to be a minimization\n",
    "    else : \n",
    "        f1 = 0\n",
    "    #f2 = total number of bits used\n",
    "    #f2=int(sum(x))\n",
    "    f2=tot_bits\n",
    "    #print('parameters: {} \\n bkg efficiency = {}, using {} bits'.format(x,f1, f2))\n",
    "    return ([f1, f2], pred, BDT, qtrain, feat_kept)"
   ]
  },
  {
   "cell_type": "code",
   "execution_count": 34,
   "metadata": {},
   "outputs": [],
   "source": [
    "def plot_shap(BDT, data, feats):\n",
    "    import shap\n",
    "    # select a set of background examples to take an expectation over\n",
    "    #background = X_train.to_numpy()[np.random.choice(X_train.shape[0], 1000, replace=False)]\n",
    "\n",
    "    # explain predictions of the model on four images\n",
    "    explainer = shap.Explainer(BDT)\n",
    "    a= qtrain[feat_kept][(y_train['signal']==1).values].sample(2000)\n",
    "    b = qtrain[feat_kept][(y_train['signal']==0).values].sample(2000)\n",
    "    shap_df= pd.concat([a,b])\n",
    "\n",
    "    #shap_values = explainer.shap_values(X_test.to_numpy()[np.random.choice(X_test.shape[0], 1000, replace=False)])\n",
    "    shap_values = explainer.shap_values(shap_df.to_numpy())\n",
    "    col_names=[val for val in shap_df.columns if val != 'abseta']\n",
    "    col_names.append('abseta')\n",
    "\n",
    "    plt.figure(figsize=(10,5))\n",
    "    #shap.summary_plot(shap_values, X_test.to_numpy()[np.random.choice(X_test.shape[0], 1000, replace=False)], \n",
    "    #                  features,max_display=99, show=False, alpha = 0.7 )\n",
    "\n",
    "    shap.summary_plot(shap_values, shap_df.to_numpy() ,shap_df.columns,max_display=99, show=False, alpha = 0.8 )\n",
    "    plt.xlabel('Shap value', fontsize=16)"
   ]
  },
  {
   "cell_type": "code",
   "execution_count": 35,
   "metadata": {},
   "outputs": [
    {
     "data": {
      "text/plain": [
       "['abseta',\n",
       " 'cl3d_firstlayer',\n",
       " 'varee',\n",
       " 'varpp',\n",
       " 'varzz',\n",
       " 'varrr',\n",
       " 'cl3d_meanz',\n",
       " 'cl3d_showerlength',\n",
       " 'cl3d_coreshowerlength',\n",
       " 'EoT',\n",
       " 'Emax_5',\n",
       " 'ebm1',\n",
       " 'Emax_4R',\n",
       " 'hbm',\n",
       " 'firstHcal_1',\n",
       " 'reverse_ebm1']"
      ]
     },
     "execution_count": 35,
     "metadata": {},
     "output_type": "execute_result"
    }
   ],
   "source": [
    "features"
   ]
  },
  {
   "cell_type": "markdown",
   "metadata": {},
   "source": [
    "EoT 1 : 99.8468\n",
    "EoT 10:99.8507\n",
    "EoT 0:99.8436"
   ]
  },
  {
   "cell_type": "code",
   "execution_count": 36,
   "metadata": {},
   "outputs": [
    {
     "name": "stderr",
     "output_type": "stream",
     "text": [
      "WARNING: Logging before flag parsing goes to stderr.\n",
      "W0927 10:42:36.231365 139689600943936 deprecation.py:323] From <ipython-input-33-07ece5000d4f>:64: is_gpu_available (from tensorflow.python.framework.test_util) is deprecated and will be removed in a future version.\n",
      "Instructions for updating:\n",
      "Use `tf.config.list_physical_devices('GPU')` instead.\n",
      "/opt/exp_soft/llr/python/3.7.0/el7/lib/python3.7/site-packages/ipykernel_launcher.py:92: FutureWarning: \n",
      "The current behaviour of 'Series.argmax' is deprecated, use 'idxmax'\n",
      "instead.\n",
      "The behavior of 'argmax' will be corrected to return the positional\n",
      "maximum in the future. For now, use 'series.values.argmax' or\n",
      "'np.argmax(np.array(values))' to get the position of the maximum\n",
      "row.\n"
     ]
    },
    {
     "name": "stdout",
     "output_type": "stream",
     "text": [
      "[-0.996934778271103, 50.0]\n"
     ]
    },
    {
     "name": "stderr",
     "output_type": "stream",
     "text": [
      "findfont: Font family ['normal'] not found. Falling back to DejaVu Sans.\n"
     ]
    },
    {
     "data": {
      "image/png": "[encoded data removed]",
      "text/plain": [
       "<Figure size 576x424.8 with 2 Axes>"
      ]
     },
     "metadata": {
      "needs_background": "light"
     },
     "output_type": "display_data"
    }
   ],
   "source": [
    "x=[  3.        ,   0.        ,   1.        ,   5.        ,\n",
    "         3.        ,   9.        ,   0.        ,   1.        ,\n",
    "         0.        ,   10.        ,  10.        ,   4.        ,\n",
    "         3.        ,   0.        ,   1.        ,   0.        ]\n",
    "out, pred, BDT, qtrain, feat_kept=train_quantized(x)\n",
    "print(out)\n",
    "plot_shap(BDT, qtrain, feat_kept)\n",
    "#plt.savefig(res_dir+'/importance_violin.png', bbox_inches='tight')\n"
   ]
  },
  {
   "cell_type": "code",
   "execution_count": 37,
   "metadata": {},
   "outputs": [],
   "source": [
    "import numpy as np\n",
    "\n",
    "from pymoo.factory import get_algorithm, get_crossover, get_mutation, get_sampling, get_selection\n",
    "from pymoo.optimize import minimize\n",
    "from pymoo.model.problem import Problem\n",
    "\n",
    "\n",
    "class MyProblem(Problem):\n",
    "\n",
    "    def __init__(self):\n",
    "        super().__init__(n_var=nvar, n_obj=nobj, n_constr=nconstr, xl=xl, xu=xu, type_var=int, elementwise_evaluation=True)\n",
    "\n",
    "    def _evaluate(self, x, out, *args, **kwargs):\n",
    "        #define evaluations functions (minimization)\n",
    "        #f1 = bkg eff at 99% signal efficiency\n",
    "        #print(x)\n",
    "        #it=pd.DataFrame([x], columns=features)\n",
    "        #print(it)\n",
    "        \n",
    "        out[\"F\"] = train_quantized(x)[0]\n",
    "problem=MyProblem()"
   ]
  },
  {
   "cell_type": "code",
   "execution_count": 38,
   "metadata": {},
   "outputs": [
    {
     "name": "stdout",
     "output_type": "stream",
     "text": [
      "=======================================================\n",
      "n_gen |  n_eval |  n_nds  |     eps      |  indicator  \n",
      "=======================================================\n",
      "    1 |      12 |       5 |            - |            -\n"
     ]
    },
    {
     "name": "stderr",
     "output_type": "stream",
     "text": [
      "divide by zero encountered in power\n",
      "invalid value encountered in power\n"
     ]
    },
    {
     "name": "stdout",
     "output_type": "stream",
     "text": [
      "    2 |      72 |       9 |  0.454545455 |        nadir\n"
     ]
    },
    {
     "name": "stderr",
     "output_type": "stream",
     "text": [
      "divide by zero encountered in power\n",
      "invalid value encountered in power\n"
     ]
    },
    {
     "name": "stdout",
     "output_type": "stream",
     "text": [
      "    3 |     132 |      10 |  0.333333333 |        nadir\n"
     ]
    },
    {
     "name": "stderr",
     "output_type": "stream",
     "text": [
      "invalid value encountered in power\n"
     ]
    },
    {
     "name": "stdout",
     "output_type": "stream",
     "text": [
      "    4 |     192 |      15 |  0.253164557 |        nadir\n"
     ]
    },
    {
     "name": "stderr",
     "output_type": "stream",
     "text": [
      "divide by zero encountered in power\n",
      "invalid value encountered in power\n"
     ]
    },
    {
     "name": "stdout",
     "output_type": "stream",
     "text": [
      "    5 |     252 |      10 |  0.003750937 |        ideal\n"
     ]
    },
    {
     "name": "stderr",
     "output_type": "stream",
     "text": [
      "invalid value encountered in power\n"
     ]
    },
    {
     "name": "stdout",
     "output_type": "stream",
     "text": [
      "    6 |     312 |      11 |  0.075710153 |            f\n"
     ]
    },
    {
     "name": "stderr",
     "output_type": "stream",
     "text": [
      "invalid value encountered in power\n"
     ]
    },
    {
     "name": "stdout",
     "output_type": "stream",
     "text": [
      "    7 |     372 |      14 |  0.025405162 |        ideal\n"
     ]
    },
    {
     "name": "stderr",
     "output_type": "stream",
     "text": [
      "invalid value encountered in power\n"
     ]
    },
    {
     "name": "stdout",
     "output_type": "stream",
     "text": [
      "    8 |     432 |      14 |  0.073170732 |        ideal\n"
     ]
    },
    {
     "name": "stderr",
     "output_type": "stream",
     "text": [
      "invalid value encountered in power\n"
     ]
    },
    {
     "name": "stdout",
     "output_type": "stream",
     "text": [
      "    9 |     492 |      15 |  0.205882353 |        nadir\n"
     ]
    },
    {
     "name": "stderr",
     "output_type": "stream",
     "text": [
      "invalid value encountered in power\n"
     ]
    },
    {
     "name": "stdout",
     "output_type": "stream",
     "text": [
      "   10 |     552 |      17 |  0.028571429 |        ideal\n"
     ]
    },
    {
     "name": "stderr",
     "output_type": "stream",
     "text": [
      "invalid value encountered in power\n"
     ]
    },
    {
     "name": "stdout",
     "output_type": "stream",
     "text": [
      "   11 |     612 |      15 |  0.022282448 |            f\n"
     ]
    },
    {
     "name": "stderr",
     "output_type": "stream",
     "text": [
      "divide by zero encountered in power\n",
      "invalid value encountered in power\n"
     ]
    },
    {
     "name": "stdout",
     "output_type": "stream",
     "text": [
      "   12 |     672 |      12 |  0.020354607 |            f\n"
     ]
    },
    {
     "name": "stderr",
     "output_type": "stream",
     "text": [
      "invalid value encountered in power\n"
     ]
    },
    {
     "name": "stdout",
     "output_type": "stream",
     "text": [
      "   13 |     732 |      14 |  0.027027027 |        ideal\n"
     ]
    },
    {
     "name": "stderr",
     "output_type": "stream",
     "text": [
      "invalid value encountered in power\n"
     ]
    },
    {
     "name": "stdout",
     "output_type": "stream",
     "text": [
      "   14 |     792 |      15 |  0.911102166 |        nadir\n"
     ]
    },
    {
     "name": "stderr",
     "output_type": "stream",
     "text": [
      "invalid value encountered in power\n"
     ]
    },
    {
     "name": "stdout",
     "output_type": "stream",
     "text": [
      "   15 |     852 |      16 |  0.567006014 |        nadir\n"
     ]
    },
    {
     "name": "stderr",
     "output_type": "stream",
     "text": [
      "invalid value encountered in power\n"
     ]
    },
    {
     "name": "stdout",
     "output_type": "stream",
     "text": [
      "   16 |     912 |      16 |  0.008767918 |            f\n"
     ]
    },
    {
     "name": "stderr",
     "output_type": "stream",
     "text": [
      "invalid value encountered in power\n"
     ]
    },
    {
     "name": "stdout",
     "output_type": "stream",
     "text": [
      "   17 |     972 |      16 |  0.019940898 |            f\n"
     ]
    },
    {
     "name": "stderr",
     "output_type": "stream",
     "text": [
      "invalid value encountered in power\n"
     ]
    },
    {
     "name": "stdout",
     "output_type": "stream",
     "text": [
      "   18 |    1032 |      18 |  0.046511628 |        ideal\n"
     ]
    },
    {
     "name": "stderr",
     "output_type": "stream",
     "text": [
      "invalid value encountered in power\n"
     ]
    },
    {
     "name": "stdout",
     "output_type": "stream",
     "text": [
      "   19 |    1092 |      19 |  0.012588311 |            f\n"
     ]
    },
    {
     "name": "stderr",
     "output_type": "stream",
     "text": [
      "invalid value encountered in power\n"
     ]
    },
    {
     "name": "stdout",
     "output_type": "stream",
     "text": [
      "   20 |    1152 |      20 |  0.022727273 |        ideal\n"
     ]
    },
    {
     "name": "stderr",
     "output_type": "stream",
     "text": [
      "invalid value encountered in power\n"
     ]
    },
    {
     "name": "stdout",
     "output_type": "stream",
     "text": [
      "   21 |    1212 |      20 |  0.022222222 |        ideal\n"
     ]
    },
    {
     "name": "stderr",
     "output_type": "stream",
     "text": [
      "invalid value encountered in power\n"
     ]
    },
    {
     "name": "stdout",
     "output_type": "stream",
     "text": [
      "   22 |    1272 |      18 |  0.333540100 |        nadir\n"
     ]
    },
    {
     "name": "stderr",
     "output_type": "stream",
     "text": [
      "invalid value encountered in power\n"
     ]
    },
    {
     "name": "stdout",
     "output_type": "stream",
     "text": [
      "   23 |    1332 |      19 |  0.021739130 |        ideal\n"
     ]
    },
    {
     "name": "stderr",
     "output_type": "stream",
     "text": [
      "invalid value encountered in power\n"
     ]
    },
    {
     "name": "stdout",
     "output_type": "stream",
     "text": [
      "   24 |    1392 |      19 |  0.007160774 |            f\n",
      "   25 |    1452 |      21 |  0.007397689 |            f\n",
      "   26 |    1512 |      24 |  0.021276596 |        ideal\n",
      "   27 |    1572 |      25 |  0.010078770 |            f\n",
      "   28 |    1632 |      24 |  0.020833333 |        ideal\n",
      "   29 |    1692 |      25 |  5.000773149 |        nadir\n",
      "   30 |    1752 |      24 |  0.020408163 |        ideal\n",
      "   31 |    1812 |      24 |  0.492169123 |        nadir\n",
      "   32 |    1872 |      25 |  0.001001447 |            f\n",
      "   33 |    1932 |      22 |  0.256410256 |        nadir\n",
      "   34 |    1992 |      21 |  0.032258065 |        ideal\n",
      "   35 |    2052 |      23 |  0.005825536 |            f\n",
      "   36 |    2112 |      24 |  0.002697030 |            f\n",
      "   37 |    2172 |      24 |  0.000094160 |            f\n",
      "   38 |    2232 |      22 |  0.002740290 |            f\n",
      "   39 |    2292 |      23 |  0.001855385 |            f\n",
      "   40 |    2352 |      25 |  0.004113549 |            f\n",
      "Best solution found: [[1 1 0 1 1 4 3 1 1 1 0 1 1 1 0 1]\n",
      " [0 1 0 6 1 6 1 0 1 4 2 1 1 1 0 0]\n",
      " [1 2 1 1 1 4 0 0 1 2 0 1 1 1 0 1]\n",
      " [0 0 1 3 1 6 3 0 1 7 0 5 1 1 0 0]\n",
      " [1 1 0 0 1 4 0 0 1 0 0 1 1 1 0 1]\n",
      " [0 1 0 9 1 7 4 0 2 4 0 1 1 1 0 0]\n",
      " [0 1 0 9 1 7 4 0 1 4 0 2 1 1 0 2]\n",
      " [0 1 0 3 1 6 1 0 1 4 2 1 1 0 0 1]\n",
      " [0 1 0 0 0 0 0 0 0 0 0 1 0 0 0 0]\n",
      " [0 1 0 3 1 6 1 0 1 4 2 1 1 0 0 0]\n",
      " [0 1 0 0 0 0 0 0 0 0 3 1 0 0 0 0]\n",
      " [0 1 2 0 1 4 0 2 1 0 2 1 0 1 0 0]\n",
      " [0 1 1 5 1 6 4 1 1 0 0 6 0 0 0 0]\n",
      " [0 1 0 2 1 3 0 0 1 0 2 2 0 0 0 1]\n",
      " [0 0 0 6 0 5 0 0 1 4 0 1 1 1 0 1]\n",
      " [0 1 0 0 1 0 0 0 1 0 2 1 0 0 0 0]\n",
      " [0 1 0 3 1 6 0 0 1 4 1 1 1 0 0 0]\n",
      " [0 1 0 0 0 4 0 0 0 0 2 1 0 0 0 0]\n",
      " [0 0 0 0 0 0 0 0 0 0 2 1 0 0 0 0]\n",
      " [0 0 0 0 0 0 0 0 1 0 2 1 0 0 0 0]\n",
      " [0 1 0 1 0 2 0 1 1 0 2 1 0 0 0 0]\n",
      " [0 1 0 1 1 3 0 0 1 0 2 1 0 0 0 0]\n",
      " [0 1 1 0 1 4 0 0 1 0 2 1 0 0 0 0]\n",
      " [0 0 3 0 1 4 0 2 1 0 2 1 0 2 0 0]\n",
      " [0 1 0 0 2 0 0 0 1 0 2 1 0 0 0 0]]\n",
      "Function value: [[-0.99725387 18.        ]\n",
      " [-0.99833772 25.        ]\n",
      " [-0.99697493 17.        ]\n",
      " [-0.99839195 29.        ]\n",
      " [-0.99666983 12.        ]\n",
      " [-0.9984567  31.        ]\n",
      " [-0.99848428 33.        ]\n",
      " [-0.99831254 22.        ]\n",
      " [-0.89615338  2.        ]\n",
      " [-0.99828409 21.        ]\n",
      " [-0.98949037  5.        ]\n",
      " [-0.99683632 15.        ]\n",
      " [-0.99837056 26.        ]\n",
      " [-0.99669998 13.        ]\n",
      " [-0.99826357 20.        ]\n",
      " [-0.99131513  6.        ]\n",
      " [-0.99806227 19.        ]\n",
      " [-0.99432454  8.        ]\n",
      " [-0.98218073  3.        ]\n",
      " [-0.985268    4.        ]\n",
      " [-0.99554266  9.        ]\n",
      " [-0.99590789 10.        ]\n",
      " [-0.99599997 11.        ]\n",
      " [-0.99684157 16.        ]\n",
      " [-0.99155875  7.        ]]\n",
      "Constraint violation: [[0.]\n",
      " [0.]\n",
      " [0.]\n",
      " [0.]\n",
      " [0.]\n",
      " [0.]\n",
      " [0.]\n",
      " [0.]\n",
      " [0.]\n",
      " [0.]\n",
      " [0.]\n",
      " [0.]\n",
      " [0.]\n",
      " [0.]\n",
      " [0.]\n",
      " [0.]\n",
      " [0.]\n",
      " [0.]\n",
      " [0.]\n",
      " [0.]\n",
      " [0.]\n",
      " [0.]\n",
      " [0.]\n",
      " [0.]\n",
      " [0.]]\n"
     ]
    }
   ],
   "source": [
    "pd.options.mode.chained_assignment = None  # default='warn'    \n",
    "import warnings\n",
    "warnings.filterwarnings(\"ignore\", category=FutureWarning) \n",
    "warnings.filterwarnings(\"ignore\", category=DeprecationWarning)\n",
    "\n",
    "\n",
    "#hyperdiagonal sampling:\n",
    "#range=[0,12] (add if 13 -> no quantization?but then, how to quantify number of bits used?)\n",
    "max_val=12\n",
    "pop_size=60\n",
    "sampling=[]\n",
    "#hyperdiag\n",
    "for i in range(1,max_val+1):\n",
    "    sampling.append(np.full( problem.n_var, i))\n",
    "sampling=np.array(sampling)\n",
    "#add random init\n",
    "\"\"\"for i in range(len(sampling), pop_size):\n",
    "\n",
    "    sampling=np.append(sampling,[np.random.randint(0,12,problem.n_var)], axis=0)\n",
    "    \"\"\"\n",
    "\n",
    "\n",
    "#sampling= get_sampling(\"int_random\")\n",
    "\n",
    "\n",
    "method = get_algorithm(\"nsga2\",\n",
    "                       pop_size=pop_size,\n",
    "                       sampling=sampling,\n",
    "                       crossover=get_crossover(\"int_sbx\", prob=1.0, eta=3.0), #def 1,3\n",
    "                       mutation=get_mutation(\"int_pm\", eta=3.0), # def 3\n",
    "                       eliminate_duplicates=True,\n",
    "                       )\n",
    "\n",
    "\n",
    "res = minimize(problem,\n",
    "               method,\n",
    "               termination=('n_gen', 40),\n",
    "               seed=42,\n",
    "               save_history=True,\n",
    "               verbose=True\n",
    "               )\n",
    "\n",
    "print(\"Best solution found: %s\" % res.X)\n",
    "print(\"Function value: %s\" % res.F)\n",
    "print(\"Constraint violation: %s\" % res.CV)"
   ]
  },
  {
   "cell_type": "code",
   "execution_count": 39,
   "metadata": {},
   "outputs": [],
   "source": [
    "moo_name= '40gen_diag_auc_mut10'"
   ]
  },
  {
   "cell_type": "code",
   "execution_count": null,
   "metadata": {},
   "outputs": [],
   "source": []
  },
  {
   "cell_type": "code",
   "execution_count": 40,
   "metadata": {},
   "outputs": [
    {
     "data": {
      "text/plain": [
       "'/grid_mnt/vol_home/llr/cms/hakimi/HGCAL/moo/pions/'"
      ]
     },
     "execution_count": 40,
     "metadata": {},
     "output_type": "execute_result"
    }
   ],
   "source": [
    "savedir"
   ]
  },
  {
   "cell_type": "code",
   "execution_count": 41,
   "metadata": {},
   "outputs": [],
   "source": [
    "import pickle as pkl\n",
    "pkl.dump(res, open(savedir + '{}.pkl'.format(moo_name), 'wb'))"
   ]
  },
  {
   "cell_type": "code",
   "execution_count": 42,
   "metadata": {},
   "outputs": [
    {
     "data": {
      "text/plain": [
       "Text(0.5, 1.0, 'pareto front')"
      ]
     },
     "execution_count": 42,
     "metadata": {},
     "output_type": "execute_result"
    },
    {
     "data": {
      "image/png": "[encoded data removed]",
      "text/plain": [
       "<Figure size 720x720 with 1 Axes>"
      ]
     },
     "metadata": {
      "needs_background": "light"
     },
     "output_type": "display_data"
    }
   ],
   "source": [
    "from pymoo.visualization.scatter import Scatter\n",
    "\n",
    "Plot=Scatter(figsize=(10,10)).add(res.F).show()\n",
    "\n",
    "#plt.vlines(x=f1, ymin=30, ymax= 85, label = \"unquantized\")\n",
    "plt.ylim(30,85)\n",
    "plt.xlabel('bkg efficiency')\n",
    "plt.ylabel('number of bits used')\n",
    "plt.title('pareto front')"
   ]
  },
  {
   "cell_type": "code",
   "execution_count": 43,
   "metadata": {},
   "outputs": [
    {
     "data": {
      "text/plain": [
       "array([[  0.97590814,  16.        ],\n",
       "       [  0.9954486 ,  32.        ],\n",
       "       [  0.99748059,  48.        ],\n",
       "       [  0.997633  ,  96.        ],\n",
       "       [  0.99769211, 112.        ],\n",
       "       [  0.99709673,  64.        ],\n",
       "       [  0.99758125, 144.        ],\n",
       "       [  0.99692695,  80.        ],\n",
       "       [  0.99703564, 128.        ],\n",
       "       [  0.99753561, 176.        ],\n",
       "       [  0.99702522, 160.        ],\n",
       "       [  0.99703925, 192.        ]])"
      ]
     },
     "execution_count": 43,
     "metadata": {},
     "output_type": "execute_result"
    }
   ],
   "source": [
    "res.history[0].pop.get(\"F\")*(-1,1)"
   ]
  },
  {
   "cell_type": "code",
   "execution_count": 44,
   "metadata": {},
   "outputs": [
    {
     "data": {
      "text/plain": [
       "40"
      ]
     },
     "execution_count": 44,
     "metadata": {},
     "output_type": "execute_result"
    }
   ],
   "source": [
    "len(res.history)"
   ]
  },
  {
   "cell_type": "code",
   "execution_count": 45,
   "metadata": {},
   "outputs": [
    {
     "data": {
      "image/png": "[encoded data removed]",
      "text/plain": [
       "<Figure size 432x288 with 1 Axes>"
      ]
     },
     "metadata": {
      "needs_background": "light"
     },
     "output_type": "display_data"
    },
    {
     "data": {
      "image/png": "[encoded data removed]",
      "text/plain": [
       "<Figure size 720x720 with 1 Axes>"
      ]
     },
     "metadata": {
      "needs_background": "light"
     },
     "output_type": "display_data"
    }
   ],
   "source": [
    "Plot=Scatter(figsize=(10,10))\n",
    "if 'auc' in moo_name:\n",
    "    coeff=(-1,1)\n",
    "    title = 'AUC > 0.8 tpr'\n",
    "    plt.xlim(0.99, 1)\n",
    "else:\n",
    "    coeff= (1,1)\n",
    "    title= 'bkg eff at 0.99 signal efficiency'\n",
    "Plot.add(res.history[0].pop.get(\"F\")*coeff, label = 'gen {}'.format(1))\n",
    "for i, hist in enumerate(res.history):\n",
    "    if (i+1)%5==0:\n",
    "        Plot.add(hist.pop.get(\"F\")*coeff, label = 'gen {}'.format(i+1))\n",
    "Plot.show()\n",
    "#plt.vlines(x=f1, ymin=30, ymax= 170, label = \"unquantized\")\n",
    "if 'auc' in moo_name:\n",
    "    plt.xlim(0.99, 1.)\n",
    "plt.ylim(0,150)\n",
    "\n",
    "plt.xlabel(title)\n",
    "plt.ylabel('number of bits used')\n",
    "plt.legend()\n",
    "plt.savefig(savedir + '{}.png'.format(moo_name))"
   ]
  },
  {
   "cell_type": "code",
   "execution_count": 46,
   "metadata": {},
   "outputs": [],
   "source": [
    "a=[100*a for (a,b) in res.F]\n",
    "b=[int(b) for (a,b) in res.F]"
   ]
  },
  {
   "cell_type": "code",
   "execution_count": 47,
   "metadata": {},
   "outputs": [
    {
     "data": {
      "text/plain": [
       "['abseta',\n",
       " 'cl3d_firstlayer',\n",
       " 'varee',\n",
       " 'varpp',\n",
       " 'varzz',\n",
       " 'varrr',\n",
       " 'cl3d_meanz',\n",
       " 'cl3d_showerlength',\n",
       " 'cl3d_coreshowerlength',\n",
       " 'EoT',\n",
       " 'Emax_5',\n",
       " 'ebm1',\n",
       " 'Emax_4R',\n",
       " 'hbm',\n",
       " 'firstHcal_1',\n",
       " 'reverse_ebm1']"
      ]
     },
     "execution_count": 47,
     "metadata": {},
     "output_type": "execute_result"
    }
   ],
   "source": [
    "features"
   ]
  },
  {
   "cell_type": "code",
   "execution_count": 48,
   "metadata": {},
   "outputs": [],
   "source": [
    "if bkg == 'QCD':\n",
    "    feats= ['abseta',\n",
    " '1stlay',\n",
    " 'vee',\n",
    " 'vpp',\n",
    " 'vzz',\n",
    " 'vrr',\n",
    " 'meanz',\n",
    " 'sho_lgth',\n",
    " 'coreshlgth',\n",
    " 'EoT',\n",
    " 'ebm1',\n",
    " 'Emax_4R',\n",
    " 'rev_ebm1',\n",
    " 'first_2',\n",
    " 'Emax_2R',\n",
    " 'Emax_5']\n",
    "elif bkg =='PU':\n",
    "    feats = ['abseta', '1stlay', 'vee', 'vpp', 'vzz', 'vrr',\n",
    "                 'meanz', 'sho_lgth','core_lgth', 'EoT',\n",
    "                'firstH_5', 'Emax_4R', 'ebm1', 'Emax_2R', 'firstH_1', 'Emax_5']\n",
    "elif bkg == 'pions':\n",
    "    feats = ['abseta',\n",
    " '1stlay',\n",
    " 'vee',\n",
    " 'vpp',\n",
    " 'vzz',\n",
    " 'vrr',\n",
    " 'meanz',\n",
    " 'sho_lgth',\n",
    "    'core_lgth',\n",
    " 'EoT',\n",
    " 'Emax_5',\n",
    " 'ebm1',\n",
    " 'Emax_4R',\n",
    " 'hbm',\n",
    " 'firstH_1',\n",
    " 'rev_ebm1']"
   ]
  },
  {
   "cell_type": "code",
   "execution_count": 49,
   "metadata": {},
   "outputs": [],
   "source": [
    "result= pd.DataFrame(res.X, columns=feats)\n",
    "result['bkg_efficiency']=a\n",
    "result['number of bits']=b\n",
    "\n",
    "result.sort_values([\"bkg_efficiency\"])\n",
    "result.to_csv(savedir + '{}_lastgen.csv'.format(moo_name))"
   ]
  },
  {
   "cell_type": "code",
   "execution_count": 55,
   "metadata": {},
   "outputs": [
    {
     "data": {
      "text/html": [
       "<div>\n",
       "<style scoped>\n",
       "    .dataframe tbody tr th:only-of-type {\n",
       "        vertical-align: middle;\n",
       "    }\n",
       "\n",
       "    .dataframe tbody tr th {\n",
       "        vertical-align: top;\n",
       "    }\n",
       "\n",
       "    .dataframe thead th {\n",
       "        text-align: right;\n",
       "    }\n",
       "</style>\n",
       "<table border=\"1\" class=\"dataframe\">\n",
       "  <thead>\n",
       "    <tr style=\"text-align: right;\">\n",
       "      <th></th>\n",
       "      <th>abseta</th>\n",
       "      <th>1stlay</th>\n",
       "      <th>vee</th>\n",
       "      <th>vpp</th>\n",
       "      <th>vzz</th>\n",
       "      <th>vrr</th>\n",
       "      <th>meanz</th>\n",
       "      <th>sho_lgth</th>\n",
       "      <th>core_lgth</th>\n",
       "      <th>EoT</th>\n",
       "      <th>Emax_5</th>\n",
       "      <th>ebm1</th>\n",
       "      <th>Emax_4R</th>\n",
       "      <th>hbm</th>\n",
       "      <th>firstH_1</th>\n",
       "      <th>rev_ebm1</th>\n",
       "      <th>bkg_efficiency</th>\n",
       "      <th>number of bits</th>\n",
       "    </tr>\n",
       "  </thead>\n",
       "  <tbody>\n",
       "    <tr>\n",
       "      <th>0</th>\n",
       "      <td>1</td>\n",
       "      <td>1</td>\n",
       "      <td>0</td>\n",
       "      <td>1</td>\n",
       "      <td>1</td>\n",
       "      <td>4</td>\n",
       "      <td>3</td>\n",
       "      <td>1</td>\n",
       "      <td>1</td>\n",
       "      <td>1</td>\n",
       "      <td>0</td>\n",
       "      <td>1</td>\n",
       "      <td>1</td>\n",
       "      <td>1</td>\n",
       "      <td>0</td>\n",
       "      <td>1</td>\n",
       "      <td>-99.725387</td>\n",
       "      <td>18</td>\n",
       "    </tr>\n",
       "    <tr>\n",
       "      <th>1</th>\n",
       "      <td>0</td>\n",
       "      <td>1</td>\n",
       "      <td>0</td>\n",
       "      <td>6</td>\n",
       "      <td>1</td>\n",
       "      <td>6</td>\n",
       "      <td>1</td>\n",
       "      <td>0</td>\n",
       "      <td>1</td>\n",
       "      <td>4</td>\n",
       "      <td>2</td>\n",
       "      <td>1</td>\n",
       "      <td>1</td>\n",
       "      <td>1</td>\n",
       "      <td>0</td>\n",
       "      <td>0</td>\n",
       "      <td>-99.833772</td>\n",
       "      <td>25</td>\n",
       "    </tr>\n",
       "    <tr>\n",
       "      <th>2</th>\n",
       "      <td>1</td>\n",
       "      <td>2</td>\n",
       "      <td>1</td>\n",
       "      <td>1</td>\n",
       "      <td>1</td>\n",
       "      <td>4</td>\n",
       "      <td>0</td>\n",
       "      <td>0</td>\n",
       "      <td>1</td>\n",
       "      <td>2</td>\n",
       "      <td>0</td>\n",
       "      <td>1</td>\n",
       "      <td>1</td>\n",
       "      <td>1</td>\n",
       "      <td>0</td>\n",
       "      <td>1</td>\n",
       "      <td>-99.697493</td>\n",
       "      <td>17</td>\n",
       "    </tr>\n",
       "    <tr>\n",
       "      <th>3</th>\n",
       "      <td>0</td>\n",
       "      <td>0</td>\n",
       "      <td>1</td>\n",
       "      <td>3</td>\n",
       "      <td>1</td>\n",
       "      <td>6</td>\n",
       "      <td>3</td>\n",
       "      <td>0</td>\n",
       "      <td>1</td>\n",
       "      <td>7</td>\n",
       "      <td>0</td>\n",
       "      <td>5</td>\n",
       "      <td>1</td>\n",
       "      <td>1</td>\n",
       "      <td>0</td>\n",
       "      <td>0</td>\n",
       "      <td>-99.839195</td>\n",
       "      <td>29</td>\n",
       "    </tr>\n",
       "    <tr>\n",
       "      <th>4</th>\n",
       "      <td>1</td>\n",
       "      <td>1</td>\n",
       "      <td>0</td>\n",
       "      <td>0</td>\n",
       "      <td>1</td>\n",
       "      <td>4</td>\n",
       "      <td>0</td>\n",
       "      <td>0</td>\n",
       "      <td>1</td>\n",
       "      <td>0</td>\n",
       "      <td>0</td>\n",
       "      <td>1</td>\n",
       "      <td>1</td>\n",
       "      <td>1</td>\n",
       "      <td>0</td>\n",
       "      <td>1</td>\n",
       "      <td>-99.666983</td>\n",
       "      <td>12</td>\n",
       "    </tr>\n",
       "    <tr>\n",
       "      <th>5</th>\n",
       "      <td>0</td>\n",
       "      <td>1</td>\n",
       "      <td>0</td>\n",
       "      <td>9</td>\n",
       "      <td>1</td>\n",
       "      <td>7</td>\n",
       "      <td>4</td>\n",
       "      <td>0</td>\n",
       "      <td>2</td>\n",
       "      <td>4</td>\n",
       "      <td>0</td>\n",
       "      <td>1</td>\n",
       "      <td>1</td>\n",
       "      <td>1</td>\n",
       "      <td>0</td>\n",
       "      <td>0</td>\n",
       "      <td>-99.845670</td>\n",
       "      <td>31</td>\n",
       "    </tr>\n",
       "    <tr>\n",
       "      <th>6</th>\n",
       "      <td>0</td>\n",
       "      <td>1</td>\n",
       "      <td>0</td>\n",
       "      <td>9</td>\n",
       "      <td>1</td>\n",
       "      <td>7</td>\n",
       "      <td>4</td>\n",
       "      <td>0</td>\n",
       "      <td>1</td>\n",
       "      <td>4</td>\n",
       "      <td>0</td>\n",
       "      <td>2</td>\n",
       "      <td>1</td>\n",
       "      <td>1</td>\n",
       "      <td>0</td>\n",
       "      <td>2</td>\n",
       "      <td>-99.848428</td>\n",
       "      <td>33</td>\n",
       "    </tr>\n",
       "    <tr>\n",
       "      <th>7</th>\n",
       "      <td>0</td>\n",
       "      <td>1</td>\n",
       "      <td>0</td>\n",
       "      <td>3</td>\n",
       "      <td>1</td>\n",
       "      <td>6</td>\n",
       "      <td>1</td>\n",
       "      <td>0</td>\n",
       "      <td>1</td>\n",
       "      <td>4</td>\n",
       "      <td>2</td>\n",
       "      <td>1</td>\n",
       "      <td>1</td>\n",
       "      <td>0</td>\n",
       "      <td>0</td>\n",
       "      <td>1</td>\n",
       "      <td>-99.831254</td>\n",
       "      <td>22</td>\n",
       "    </tr>\n",
       "    <tr>\n",
       "      <th>8</th>\n",
       "      <td>0</td>\n",
       "      <td>1</td>\n",
       "      <td>0</td>\n",
       "      <td>0</td>\n",
       "      <td>0</td>\n",
       "      <td>0</td>\n",
       "      <td>0</td>\n",
       "      <td>0</td>\n",
       "      <td>0</td>\n",
       "      <td>0</td>\n",
       "      <td>0</td>\n",
       "      <td>1</td>\n",
       "      <td>0</td>\n",
       "      <td>0</td>\n",
       "      <td>0</td>\n",
       "      <td>0</td>\n",
       "      <td>-89.615338</td>\n",
       "      <td>2</td>\n",
       "    </tr>\n",
       "    <tr>\n",
       "      <th>9</th>\n",
       "      <td>0</td>\n",
       "      <td>1</td>\n",
       "      <td>0</td>\n",
       "      <td>3</td>\n",
       "      <td>1</td>\n",
       "      <td>6</td>\n",
       "      <td>1</td>\n",
       "      <td>0</td>\n",
       "      <td>1</td>\n",
       "      <td>4</td>\n",
       "      <td>2</td>\n",
       "      <td>1</td>\n",
       "      <td>1</td>\n",
       "      <td>0</td>\n",
       "      <td>0</td>\n",
       "      <td>0</td>\n",
       "      <td>-99.828409</td>\n",
       "      <td>21</td>\n",
       "    </tr>\n",
       "    <tr>\n",
       "      <th>10</th>\n",
       "      <td>0</td>\n",
       "      <td>1</td>\n",
       "      <td>0</td>\n",
       "      <td>0</td>\n",
       "      <td>0</td>\n",
       "      <td>0</td>\n",
       "      <td>0</td>\n",
       "      <td>0</td>\n",
       "      <td>0</td>\n",
       "      <td>0</td>\n",
       "      <td>3</td>\n",
       "      <td>1</td>\n",
       "      <td>0</td>\n",
       "      <td>0</td>\n",
       "      <td>0</td>\n",
       "      <td>0</td>\n",
       "      <td>-98.949037</td>\n",
       "      <td>5</td>\n",
       "    </tr>\n",
       "    <tr>\n",
       "      <th>11</th>\n",
       "      <td>0</td>\n",
       "      <td>1</td>\n",
       "      <td>2</td>\n",
       "      <td>0</td>\n",
       "      <td>1</td>\n",
       "      <td>4</td>\n",
       "      <td>0</td>\n",
       "      <td>2</td>\n",
       "      <td>1</td>\n",
       "      <td>0</td>\n",
       "      <td>2</td>\n",
       "      <td>1</td>\n",
       "      <td>0</td>\n",
       "      <td>1</td>\n",
       "      <td>0</td>\n",
       "      <td>0</td>\n",
       "      <td>-99.683632</td>\n",
       "      <td>15</td>\n",
       "    </tr>\n",
       "    <tr>\n",
       "      <th>12</th>\n",
       "      <td>0</td>\n",
       "      <td>1</td>\n",
       "      <td>1</td>\n",
       "      <td>5</td>\n",
       "      <td>1</td>\n",
       "      <td>6</td>\n",
       "      <td>4</td>\n",
       "      <td>1</td>\n",
       "      <td>1</td>\n",
       "      <td>0</td>\n",
       "      <td>0</td>\n",
       "      <td>6</td>\n",
       "      <td>0</td>\n",
       "      <td>0</td>\n",
       "      <td>0</td>\n",
       "      <td>0</td>\n",
       "      <td>-99.837056</td>\n",
       "      <td>26</td>\n",
       "    </tr>\n",
       "    <tr>\n",
       "      <th>13</th>\n",
       "      <td>0</td>\n",
       "      <td>1</td>\n",
       "      <td>0</td>\n",
       "      <td>2</td>\n",
       "      <td>1</td>\n",
       "      <td>3</td>\n",
       "      <td>0</td>\n",
       "      <td>0</td>\n",
       "      <td>1</td>\n",
       "      <td>0</td>\n",
       "      <td>2</td>\n",
       "      <td>2</td>\n",
       "      <td>0</td>\n",
       "      <td>0</td>\n",
       "      <td>0</td>\n",
       "      <td>1</td>\n",
       "      <td>-99.669998</td>\n",
       "      <td>13</td>\n",
       "    </tr>\n",
       "    <tr>\n",
       "      <th>14</th>\n",
       "      <td>0</td>\n",
       "      <td>0</td>\n",
       "      <td>0</td>\n",
       "      <td>6</td>\n",
       "      <td>0</td>\n",
       "      <td>5</td>\n",
       "      <td>0</td>\n",
       "      <td>0</td>\n",
       "      <td>1</td>\n",
       "      <td>4</td>\n",
       "      <td>0</td>\n",
       "      <td>1</td>\n",
       "      <td>1</td>\n",
       "      <td>1</td>\n",
       "      <td>0</td>\n",
       "      <td>1</td>\n",
       "      <td>-99.826357</td>\n",
       "      <td>20</td>\n",
       "    </tr>\n",
       "    <tr>\n",
       "      <th>15</th>\n",
       "      <td>0</td>\n",
       "      <td>1</td>\n",
       "      <td>0</td>\n",
       "      <td>0</td>\n",
       "      <td>1</td>\n",
       "      <td>0</td>\n",
       "      <td>0</td>\n",
       "      <td>0</td>\n",
       "      <td>1</td>\n",
       "      <td>0</td>\n",
       "      <td>2</td>\n",
       "      <td>1</td>\n",
       "      <td>0</td>\n",
       "      <td>0</td>\n",
       "      <td>0</td>\n",
       "      <td>0</td>\n",
       "      <td>-99.131513</td>\n",
       "      <td>6</td>\n",
       "    </tr>\n",
       "    <tr>\n",
       "      <th>16</th>\n",
       "      <td>0</td>\n",
       "      <td>1</td>\n",
       "      <td>0</td>\n",
       "      <td>3</td>\n",
       "      <td>1</td>\n",
       "      <td>6</td>\n",
       "      <td>0</td>\n",
       "      <td>0</td>\n",
       "      <td>1</td>\n",
       "      <td>4</td>\n",
       "      <td>1</td>\n",
       "      <td>1</td>\n",
       "      <td>1</td>\n",
       "      <td>0</td>\n",
       "      <td>0</td>\n",
       "      <td>0</td>\n",
       "      <td>-99.806227</td>\n",
       "      <td>19</td>\n",
       "    </tr>\n",
       "    <tr>\n",
       "      <th>17</th>\n",
       "      <td>0</td>\n",
       "      <td>1</td>\n",
       "      <td>0</td>\n",
       "      <td>0</td>\n",
       "      <td>0</td>\n",
       "      <td>4</td>\n",
       "      <td>0</td>\n",
       "      <td>0</td>\n",
       "      <td>0</td>\n",
       "      <td>0</td>\n",
       "      <td>2</td>\n",
       "      <td>1</td>\n",
       "      <td>0</td>\n",
       "      <td>0</td>\n",
       "      <td>0</td>\n",
       "      <td>0</td>\n",
       "      <td>-99.432454</td>\n",
       "      <td>8</td>\n",
       "    </tr>\n",
       "    <tr>\n",
       "      <th>18</th>\n",
       "      <td>0</td>\n",
       "      <td>0</td>\n",
       "      <td>0</td>\n",
       "      <td>0</td>\n",
       "      <td>0</td>\n",
       "      <td>0</td>\n",
       "      <td>0</td>\n",
       "      <td>0</td>\n",
       "      <td>0</td>\n",
       "      <td>0</td>\n",
       "      <td>2</td>\n",
       "      <td>1</td>\n",
       "      <td>0</td>\n",
       "      <td>0</td>\n",
       "      <td>0</td>\n",
       "      <td>0</td>\n",
       "      <td>-98.218073</td>\n",
       "      <td>3</td>\n",
       "    </tr>\n",
       "    <tr>\n",
       "      <th>19</th>\n",
       "      <td>0</td>\n",
       "      <td>0</td>\n",
       "      <td>0</td>\n",
       "      <td>0</td>\n",
       "      <td>0</td>\n",
       "      <td>0</td>\n",
       "      <td>0</td>\n",
       "      <td>0</td>\n",
       "      <td>1</td>\n",
       "      <td>0</td>\n",
       "      <td>2</td>\n",
       "      <td>1</td>\n",
       "      <td>0</td>\n",
       "      <td>0</td>\n",
       "      <td>0</td>\n",
       "      <td>0</td>\n",
       "      <td>-98.526800</td>\n",
       "      <td>4</td>\n",
       "    </tr>\n",
       "    <tr>\n",
       "      <th>20</th>\n",
       "      <td>0</td>\n",
       "      <td>1</td>\n",
       "      <td>0</td>\n",
       "      <td>1</td>\n",
       "      <td>0</td>\n",
       "      <td>2</td>\n",
       "      <td>0</td>\n",
       "      <td>1</td>\n",
       "      <td>1</td>\n",
       "      <td>0</td>\n",
       "      <td>2</td>\n",
       "      <td>1</td>\n",
       "      <td>0</td>\n",
       "      <td>0</td>\n",
       "      <td>0</td>\n",
       "      <td>0</td>\n",
       "      <td>-99.554266</td>\n",
       "      <td>9</td>\n",
       "    </tr>\n",
       "    <tr>\n",
       "      <th>21</th>\n",
       "      <td>0</td>\n",
       "      <td>1</td>\n",
       "      <td>0</td>\n",
       "      <td>1</td>\n",
       "      <td>1</td>\n",
       "      <td>3</td>\n",
       "      <td>0</td>\n",
       "      <td>0</td>\n",
       "      <td>1</td>\n",
       "      <td>0</td>\n",
       "      <td>2</td>\n",
       "      <td>1</td>\n",
       "      <td>0</td>\n",
       "      <td>0</td>\n",
       "      <td>0</td>\n",
       "      <td>0</td>\n",
       "      <td>-99.590789</td>\n",
       "      <td>10</td>\n",
       "    </tr>\n",
       "    <tr>\n",
       "      <th>22</th>\n",
       "      <td>0</td>\n",
       "      <td>1</td>\n",
       "      <td>1</td>\n",
       "      <td>0</td>\n",
       "      <td>1</td>\n",
       "      <td>4</td>\n",
       "      <td>0</td>\n",
       "      <td>0</td>\n",
       "      <td>1</td>\n",
       "      <td>0</td>\n",
       "      <td>2</td>\n",
       "      <td>1</td>\n",
       "      <td>0</td>\n",
       "      <td>0</td>\n",
       "      <td>0</td>\n",
       "      <td>0</td>\n",
       "      <td>-99.599997</td>\n",
       "      <td>11</td>\n",
       "    </tr>\n",
       "    <tr>\n",
       "      <th>23</th>\n",
       "      <td>0</td>\n",
       "      <td>0</td>\n",
       "      <td>3</td>\n",
       "      <td>0</td>\n",
       "      <td>1</td>\n",
       "      <td>4</td>\n",
       "      <td>0</td>\n",
       "      <td>2</td>\n",
       "      <td>1</td>\n",
       "      <td>0</td>\n",
       "      <td>2</td>\n",
       "      <td>1</td>\n",
       "      <td>0</td>\n",
       "      <td>2</td>\n",
       "      <td>0</td>\n",
       "      <td>0</td>\n",
       "      <td>-99.684157</td>\n",
       "      <td>16</td>\n",
       "    </tr>\n",
       "    <tr>\n",
       "      <th>24</th>\n",
       "      <td>0</td>\n",
       "      <td>1</td>\n",
       "      <td>0</td>\n",
       "      <td>0</td>\n",
       "      <td>2</td>\n",
       "      <td>0</td>\n",
       "      <td>0</td>\n",
       "      <td>0</td>\n",
       "      <td>1</td>\n",
       "      <td>0</td>\n",
       "      <td>2</td>\n",
       "      <td>1</td>\n",
       "      <td>0</td>\n",
       "      <td>0</td>\n",
       "      <td>0</td>\n",
       "      <td>0</td>\n",
       "      <td>-99.155875</td>\n",
       "      <td>7</td>\n",
       "    </tr>\n",
       "  </tbody>\n",
       "</table>\n",
       "</div>"
      ],
      "text/plain": [
       "    abseta  1stlay  vee  vpp  vzz  vrr  meanz  sho_lgth  core_lgth  EoT  \\\n",
       "0        1       1    0    1    1    4      3         1          1    1   \n",
       "1        0       1    0    6    1    6      1         0          1    4   \n",
       "2        1       2    1    1    1    4      0         0          1    2   \n",
       "3        0       0    1    3    1    6      3         0          1    7   \n",
       "4        1       1    0    0    1    4      0         0          1    0   \n",
       "5        0       1    0    9    1    7      4         0          2    4   \n",
       "6        0       1    0    9    1    7      4         0          1    4   \n",
       "7        0       1    0    3    1    6      1         0          1    4   \n",
       "8        0       1    0    0    0    0      0         0          0    0   \n",
       "9        0       1    0    3    1    6      1         0          1    4   \n",
       "10       0       1    0    0    0    0      0         0          0    0   \n",
       "11       0       1    2    0    1    4      0         2          1    0   \n",
       "12       0       1    1    5    1    6      4         1          1    0   \n",
       "13       0       1    0    2    1    3      0         0          1    0   \n",
       "14       0       0    0    6    0    5      0         0          1    4   \n",
       "15       0       1    0    0    1    0      0         0          1    0   \n",
       "16       0       1    0    3    1    6      0         0          1    4   \n",
       "17       0       1    0    0    0    4      0         0          0    0   \n",
       "18       0       0    0    0    0    0      0         0          0    0   \n",
       "19       0       0    0    0    0    0      0         0          1    0   \n",
       "20       0       1    0    1    0    2      0         1          1    0   \n",
       "21       0       1    0    1    1    3      0         0          1    0   \n",
       "22       0       1    1    0    1    4      0         0          1    0   \n",
       "23       0       0    3    0    1    4      0         2          1    0   \n",
       "24       0       1    0    0    2    0      0         0          1    0   \n",
       "\n",
       "    Emax_5  ebm1  Emax_4R  hbm  firstH_1  rev_ebm1  bkg_efficiency  \\\n",
       "0        0     1        1    1         0         1      -99.725387   \n",
       "1        2     1        1    1         0         0      -99.833772   \n",
       "2        0     1        1    1         0         1      -99.697493   \n",
       "3        0     5        1    1         0         0      -99.839195   \n",
       "4        0     1        1    1         0         1      -99.666983   \n",
       "5        0     1        1    1         0         0      -99.845670   \n",
       "6        0     2        1    1         0         2      -99.848428   \n",
       "7        2     1        1    0         0         1      -99.831254   \n",
       "8        0     1        0    0         0         0      -89.615338   \n",
       "9        2     1        1    0         0         0      -99.828409   \n",
       "10       3     1        0    0         0         0      -98.949037   \n",
       "11       2     1        0    1         0         0      -99.683632   \n",
       "12       0     6        0    0         0         0      -99.837056   \n",
       "13       2     2        0    0         0         1      -99.669998   \n",
       "14       0     1        1    1         0         1      -99.826357   \n",
       "15       2     1        0    0         0         0      -99.131513   \n",
       "16       1     1        1    0         0         0      -99.806227   \n",
       "17       2     1        0    0         0         0      -99.432454   \n",
       "18       2     1        0    0         0         0      -98.218073   \n",
       "19       2     1        0    0         0         0      -98.526800   \n",
       "20       2     1        0    0         0         0      -99.554266   \n",
       "21       2     1        0    0         0         0      -99.590789   \n",
       "22       2     1        0    0         0         0      -99.599997   \n",
       "23       2     1        0    2         0         0      -99.684157   \n",
       "24       2     1        0    0         0         0      -99.155875   \n",
       "\n",
       "    number of bits  \n",
       "0               18  \n",
       "1               25  \n",
       "2               17  \n",
       "3               29  \n",
       "4               12  \n",
       "5               31  \n",
       "6               33  \n",
       "7               22  \n",
       "8                2  \n",
       "9               21  \n",
       "10               5  \n",
       "11              15  \n",
       "12              26  \n",
       "13              13  \n",
       "14              20  \n",
       "15               6  \n",
       "16              19  \n",
       "17               8  \n",
       "18               3  \n",
       "19               4  \n",
       "20               9  \n",
       "21              10  \n",
       "22              11  \n",
       "23              16  \n",
       "24               7  "
      ]
     },
     "execution_count": 55,
     "metadata": {},
     "output_type": "execute_result"
    }
   ],
   "source": [
    "result"
   ]
  },
  {
   "cell_type": "code",
   "execution_count": 50,
   "metadata": {},
   "outputs": [
    {
     "name": "stdout",
     "output_type": "stream",
     "text": [
      "feature : abseta quantized on 12 bits\n",
      "feature : cl3d_firstlayer quantized on 5 bits\n",
      "feature : varee quantized on 12 bits\n",
      "feature : varpp quantized on 12 bits\n",
      "feature : varzz quantized on 12 bits\n",
      "feature : varrr quantized on 12 bits\n",
      "feature : cl3d_meanz quantized on 12 bits\n",
      "feature : cl3d_showerlength quantized on 6 bits\n",
      "feature : cl3d_coreshowerlength quantized on 6 bits\n",
      "feature : EoT quantized on 12 bits\n",
      "feature : Emax_5 quantized on 12 bits\n",
      "feature : ebm1 quantized on 10 bits\n",
      "feature : Emax_4R quantized on 12 bits\n",
      "feature : hbm quantized on 11 bits\n",
      "feature : firstHcal_1 quantized on 12 bits\n",
      "feature : reverse_ebm1 quantized on 10 bits\n",
      "done\n"
     ]
    }
   ],
   "source": [
    "x=xu\n",
    "qtrain=pd.DataFrame()\n",
    "qtrain_uni=pd.DataFrame()\n",
    "qtest=pd.DataFrame()\n",
    "for i,feat in enumerate(X_train.columns):\n",
    "    print(\"feature :\", feat, \"quantized on {} bits\".format(x[i]))\n",
    "    qtrain[feat]=quantize(X_train[feat], x[i], 'uniform', data[feat].min(), data[feat].max())\n",
    "    #qtrain_uni[feat]=quantize(X_train[feat], x[i], 'uniform', data[feat].min(), data[feat].max())\n",
    "    qtest[feat]=quantize(X_test[feat], x[i], 'uniform', data[feat].min(), data[feat].max())\n",
    "\n",
    "train= xgb.DMatrix(data=X_train,label=y_train['signal'], feature_names=features)\n",
    "test= xgb.DMatrix(data=X_test,label=y_test['signal'],feature_names=features)\n",
    "\n",
    "#use gpu if available\n",
    "gpu=tf.test.is_gpu_available(\n",
    "    cuda_only=False, min_cuda_compute_capability=None\n",
    ")\n",
    "if gpu==True:\n",
    "    param['tree_method']='gpu_hist'\n",
    "\n",
    "num_boost_round=200\n",
    "es_rounds=3\n",
    "\n",
    "metrics={'logloss','auc'} #last one used for es\n",
    "# set up cross validation:\n",
    "#print('beginning cv')\n",
    "cv_results = xgb.cv(\n",
    "    param,\n",
    "    train,\n",
    "    num_boost_round=num_boost_round,\n",
    "    seed=42,\n",
    "    nfold=5,\n",
    "    metrics=metrics,\n",
    "    #feval=SoverB,\n",
    "    early_stopping_rounds=es_rounds,\n",
    "    shuffle=True,\n",
    "    verbose_eval=None\n",
    ")\n",
    "\n",
    "## we define best score as the best test_auc penalized by the gap between train and test auc\n",
    "alpha=1 #(penalization)\n",
    "\n",
    "best_score=(cv_results['test-auc-mean']-alpha*abs(cv_results['test-auc-mean']-cv_results['train-auc-mean'])).max()\n",
    "boost_rounds = (cv_results['test-auc-mean']-alpha*abs(cv_results['test-auc-mean']-cv_results['train-auc-mean'])).argmax()\n",
    "#Now train and fit best parameters BDT\n",
    "eval_result = {}\n",
    "BDT = xgb.train(\n",
    "    param,\n",
    "    train,\n",
    "    num_boost_round=int(boost_rounds),\n",
    "    #feval = SoverB,\n",
    "    evals=[(train, 'Train'),(test, \"Test\")],\n",
    "    evals_result = eval_result,\n",
    "    verbose_eval=None,\n",
    ")\n",
    "pred= BDT.predict(test)\n",
    "fpr, tpr, threshold = roc_curve(y_test['signal'],pred, pos_label=1)\n",
    "fpr.sort()\n",
    "tpr.sort()\n",
    "roc_test=pd.DataFrame({'tpr':tpr,'fpr':fpr, 'threshold':threshold})\n",
    "\n",
    "#return bkg eff at 0.99 signal efficiency\n",
    "f1=np.interp(0.99,roc_test['tpr'],roc_test['fpr'])\n",
    "\n",
    "#f2 = total numer of bits used\n",
    "f2=int(sum(x))\n",
    "print('done')"
   ]
  },
  {
   "cell_type": "code",
   "execution_count": 51,
   "metadata": {},
   "outputs": [
    {
     "data": {
      "text/plain": [
       "0.016430171769977596"
      ]
     },
     "execution_count": 51,
     "metadata": {},
     "output_type": "execute_result"
    }
   ],
   "source": [
    "f1"
   ]
  },
  {
   "cell_type": "code",
   "execution_count": 52,
   "metadata": {},
   "outputs": [
    {
     "ename": "SyntaxError",
     "evalue": "invalid syntax (<ipython-input-52-3d254a89aa1d>, line 1)",
     "output_type": "error",
     "traceback": [
      "\u001b[0;36m  File \u001b[0;32m\"<ipython-input-52-3d254a89aa1d>\"\u001b[0;36m, line \u001b[0;32m1\u001b[0m\n\u001b[0;31m    perc = 7.6%\u001b[0m\n\u001b[0m               ^\u001b[0m\n\u001b[0;31mSyntaxError\u001b[0m\u001b[0;31m:\u001b[0m invalid syntax\n"
     ]
    }
   ],
   "source": [
    "perc = 7.6%\n",
    "uni = 2.9%"
   ]
  },
  {
   "cell_type": "code",
   "execution_count": null,
   "metadata": {},
   "outputs": [],
   "source": [
    "plt.figure(figsize=(10,10))\n",
    "roc_auc_test = auc(fpr, tpr)\n",
    "plt.plot(tpr,fpr, label =' AUC = {:2.2%}' .format(roc_auc_test))\n",
    "plt.yscale('log')\n",
    "plt.xlim(0.98,1.001)\n",
    "plt.ylim(3e-2,5e-1)\n",
    "plt.xlabel('Signal efficiency')\n",
    "plt.ylabel('Background efficiency')\n",
    "plt.title('BDT ROC curve (log)')\n",
    "plt.grid()\n",
    "plt.legend(loc='upper left')\n",
    "print(f1)"
   ]
  },
  {
   "cell_type": "code",
   "execution_count": null,
   "metadata": {},
   "outputs": [],
   "source": [
    "Counter((qtrain['cl3d_firstlayer']))"
   ]
  },
  {
   "cell_type": "code",
   "execution_count": null,
   "metadata": {},
   "outputs": [],
   "source": [
    "Counter(y_test['signal'])"
   ]
  },
  {
   "cell_type": "code",
   "execution_count": null,
   "metadata": {},
   "outputs": [],
   "source": [
    "feat=X_train['cl3d_firstlayer']\n",
    "nbits=4\n",
    "method='percentile'\n",
    "fmin=data['cl3d_firstlayer'].min()\n",
    "fmax=data['cl3d_firstlayer'].max()\n",
    "print(fmin, fmax)\n",
    " #feat is the feature to quantize, nbist the number of bits, method: 'uniform' or 'percentile'\n",
    "nbins= 2**nbits\n",
    "if method == 'uniform':\n",
    "    bins=np.linspace(fmin, fmax, nbins+1)\n",
    "elif method == 'percentile':\n",
    "    bins=[np.percentile(feat, n) for n in np.linspace(0,100,nbins+1)]\n",
    "else :\n",
    "    print('Error: Invalid method')\n",
    "\n",
    "print(bins)\n",
    "\n",
    "np.digitize(feat, bins)"
   ]
  },
  {
   "cell_type": "code",
   "execution_count": null,
   "metadata": {},
   "outputs": [],
   "source": [
    "\n"
   ]
  },
  {
   "cell_type": "code",
   "execution_count": null,
   "metadata": {},
   "outputs": [],
   "source": [
    "for i,feat in enumerate(features):\n",
    "    print(feat)\n",
    "    plt.figure(figsize=(10,6))\n",
    "    bins= xu[i]\n",
    "    plt.hist(qtrain_uni[feat][y_train['signal']==0], bins = bins, label='uniform')\n",
    "    plt.hist(qtrain[feat][y_train['signal']==0],bins = bins, histtype='step', label = 'percentile)')\n",
    "    plt.title(feat)\n",
    "    plt.legend()\n",
    "    "
   ]
  },
  {
   "cell_type": "code",
   "execution_count": null,
   "metadata": {},
   "outputs": [],
   "source": [
    "qtrain_uni"
   ]
  },
  {
   "cell_type": "code",
   "execution_count": null,
   "metadata": {},
   "outputs": [],
   "source": [
    "for i,feat in enumerate(X_train.columns):\n",
    "    print(feat,X_train[feat].dtype)"
   ]
  },
  {
   "cell_type": "code",
   "execution_count": null,
   "metadata": {},
   "outputs": [],
   "source": [
    "import pickle as pkl\n",
    "\n",
    "result={}\n",
    "for i,item in enumerate(os.listdir(savedir)):\n",
    "    if \"pkl\" in item:\n",
    "        print(i,savedir+item)\n",
    "        result[i]=pkl.load(open(savedir+item, 'rb'))\n",
    "        \n",
    "\n",
    "i=1\n",
    "feats= ['abseta',\n",
    " '1stlay',\n",
    " 'vee',\n",
    " 'vpp',\n",
    " 'vzz',\n",
    " 'vrr',\n",
    " 'meanz',\n",
    " 'sho_lgth',\n",
    " 'coreshlgth',\n",
    " 'EoT',\n",
    " 'ebm1',\n",
    " 'Emax_4R',\n",
    " 'rev_ebm1',\n",
    " 'first_2',\n",
    " 'Emax_2R',\n",
    " 'Emax_5']\n",
    "a=[100*a for (a,b) in result[i].F]\n",
    "b=[int(b) for (a,b) in result[i].F]\n",
    "print(os.listdir(savedir)[i])\n",
    "res_df= pd.DataFrame(result[i].X, columns=feats)\n",
    "res_df['bkg_efficiency']=a\n",
    "res_df['number of bits']=b\n",
    "res_df.sort_values([\"bkg_efficiency\"])"
   ]
  },
  {
   "cell_type": "code",
   "execution_count": null,
   "metadata": {},
   "outputs": [],
   "source": [
    "res_df.iloc[23]"
   ]
  },
  {
   "cell_type": "code",
   "execution_count": null,
   "metadata": {},
   "outputs": [],
   "source": [
    "feats"
   ]
  },
  {
   "cell_type": "code",
   "execution_count": null,
   "metadata": {},
   "outputs": [],
   "source": [
    "import plotly.graph_objects as go"
   ]
  },
  {
   "cell_type": "code",
   "execution_count": null,
   "metadata": {},
   "outputs": [],
   "source": []
  },
  {
   "cell_type": "code",
   "execution_count": null,
   "metadata": {},
   "outputs": [],
   "source": [
    "dimensions=[]\n",
    "for ft in feats:\n",
    "    tmp = dict(range=[0,10],\n",
    "              #constraintrange = [0,12],\n",
    "              label= ft,\n",
    "              values= result[ft])\n",
    "    dimensions.append(tmp)\n",
    "    "
   ]
  },
  {
   "cell_type": "code",
   "execution_count": null,
   "metadata": {},
   "outputs": [],
   "source": [
    "result"
   ]
  },
  {
   "cell_type": "code",
   "execution_count": null,
   "metadata": {},
   "outputs": [],
   "source": [
    "fig = go.Figure(data = \n",
    "               go.Parcoords(\n",
    "                    line = dict(color = result['bkg_efficiency']*(-1),\n",
    "                            colorscale = 'Bluered',\n",
    "                            showscale =True,\n",
    "                            cmin = 99,\n",
    "                            cmax=100\n",
    "                               ),\n",
    "                    dimensions = dimensions\n",
    "                              \n",
    "                              \n",
    "                           )\n",
    "               )\n",
    "fig.show()\n",
    "fig.write_image(savedir + '{}_par.png'.format(moo_name))"
   ]
  },
  {
   "cell_type": "code",
   "execution_count": null,
   "metadata": {},
   "outputs": [],
   "source": [
    "os.makedirs(savedir + 'feats', exist_ok=True)\n",
    "for ft in feats:\n",
    "    plt.figure(figsize=(10,8))\n",
    "    plt.scatter(result['bkg_efficiency'].values*(-1), result['number of bits'], c= result[ft])\n",
    "    #plt.ylim(0,85)\n",
    "    plt.colorbar()\n",
    "    plt.xlabel('bkg efficiency')\n",
    "    plt.ylabel('number of bits used')\n",
    "    plt.title(ft)\n",
    "    plt.savefig(savedir+ '/feats/{}.png'.format(ft))\n",
    "    "
   ]
  },
  {
   "cell_type": "code",
   "execution_count": null,
   "metadata": {},
   "outputs": [],
   "source": [
    "result[['bkg_efficiency', 'number of bits']].values"
   ]
  },
  {
   "cell_type": "code",
   "execution_count": null,
   "metadata": {},
   "outputs": [],
   "source": [
    "plt.scatter(result['bkg_efficiency'].values* (-1), result['number of bits'], c= result[ft])"
   ]
  },
  {
   "cell_type": "code",
   "execution_count": null,
   "metadata": {},
   "outputs": [],
   "source": []
  }
 ],
 "metadata": {
  "kernelspec": {
   "display_name": "Python 3",
   "language": "python",
   "name": "python3"
  },
  "language_info": {
   "codemirror_mode": {
    "name": "ipython",
    "version": 3
   },
   "file_extension": ".py",
   "mimetype": "text/x-python",
   "name": "python",
   "nbconvert_exporter": "python",
   "pygments_lexer": "ipython3",
   "version": "3.7.0"
  }
 },
 "nbformat": 4,
 "nbformat_minor": 2
}
