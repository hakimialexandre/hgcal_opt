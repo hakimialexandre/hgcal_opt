{
 "cells": [
  {
   "cell_type": "code",
   "execution_count": 1,
   "metadata": {},
   "outputs": [],
   "source": [
    "import os\n",
    "import pandas as pd\n",
    "import numpy as np\n",
    "from matplotlib import pyplot\n",
    "import seaborn as sns\n",
    "from sklearn import metrics\n",
    "import uproot\n",
    "import xgboost as xgb\n",
    "import matplotlib.pyplot as plt"
   ]
  },
  {
   "cell_type": "code",
   "execution_count": 9,
   "metadata": {},
   "outputs": [],
   "source": [
    "file = '/home/llr/cms/hakimi/cmssw_dev/test_local/test0402.root'"
   ]
  },
  {
   "cell_type": "code",
   "execution_count": 10,
   "metadata": {},
   "outputs": [],
   "source": [
    "test=uproot.open(file)"
   ]
  },
  {
   "cell_type": "code",
   "execution_count": 11,
   "metadata": {},
   "outputs": [
    {
     "data": {
      "text/plain": [
       "[b'run',\n",
       " b'event',\n",
       " b'lumi',\n",
       " b'gen_n',\n",
       " b'gen_PUNumInt',\n",
       " b'gen_TrueNumInt',\n",
       " b'vtx_x',\n",
       " b'vtx_y',\n",
       " b'vtx_z',\n",
       " b'gen_eta',\n",
       " b'gen_phi',\n",
       " b'gen_pt',\n",
       " b'gen_energy',\n",
       " b'gen_charge',\n",
       " b'gen_pdgid',\n",
       " b'gen_status',\n",
       " b'gen_daughters',\n",
       " b'genpart_eta',\n",
       " b'genpart_phi',\n",
       " b'genpart_pt',\n",
       " b'genpart_energy',\n",
       " b'genpart_dvx',\n",
       " b'genpart_dvy',\n",
       " b'genpart_dvz',\n",
       " b'genpart_ovx',\n",
       " b'genpart_ovy',\n",
       " b'genpart_ovz',\n",
       " b'genpart_mother',\n",
       " b'genpart_exphi',\n",
       " b'genpart_exeta',\n",
       " b'genpart_exx',\n",
       " b'genpart_exy',\n",
       " b'genpart_fbrem',\n",
       " b'genpart_pid',\n",
       " b'genpart_gen',\n",
       " b'genpart_reachedEE',\n",
       " b'genpart_fromBeamPipe',\n",
       " b'genpart_posx',\n",
       " b'genpart_posy',\n",
       " b'genpart_posz',\n",
       " b'genjet_n',\n",
       " b'genjet_energy',\n",
       " b'genjet_pt',\n",
       " b'genjet_eta',\n",
       " b'genjet_phi',\n",
       " b'cl3d_n',\n",
       " b'cl3d_id',\n",
       " b'cl3d_pt',\n",
       " b'cl3d_energy',\n",
       " b'cl3d_eta',\n",
       " b'cl3d_phi',\n",
       " b'cl3d_clusters_n',\n",
       " b'cl3d_clusters_id',\n",
       " b'cl3d_layer_pt',\n",
       " b'cl3d_showerlength',\n",
       " b'cl3d_coreshowerlength',\n",
       " b'cl3d_firstlayer',\n",
       " b'cl3d_maxlayer',\n",
       " b'cl3d_seetot',\n",
       " b'cl3d_seemax',\n",
       " b'cl3d_spptot',\n",
       " b'cl3d_sppmax',\n",
       " b'cl3d_szz',\n",
       " b'cl3d_srrtot',\n",
       " b'cl3d_srrmax',\n",
       " b'cl3d_srrmean',\n",
       " b'cl3d_varrr',\n",
       " b'cl3d_varzz',\n",
       " b'cl3d_varee',\n",
       " b'cl3d_varpp',\n",
       " b'cl3d_emaxe',\n",
       " b'cl3d_hoe',\n",
       " b'cl3d_meanz',\n",
       " b'cl3d_layer10',\n",
       " b'cl3d_layer50',\n",
       " b'cl3d_layer90',\n",
       " b'cl3d_first1layers',\n",
       " b'cl3d_first3layers',\n",
       " b'cl3d_first5layers',\n",
       " b'cl3d_firstHcal1layers',\n",
       " b'cl3d_firstHcal3layers',\n",
       " b'cl3d_firstHcal5layers',\n",
       " b'cl3d_last1layers',\n",
       " b'cl3d_last3layers',\n",
       " b'cl3d_last5layers',\n",
       " b'cl3d_emax1layers',\n",
       " b'cl3d_emax3layers',\n",
       " b'cl3d_emax5layers',\n",
       " b'cl3d_eot',\n",
       " b'cl3d_ebm0',\n",
       " b'cl3d_ebm1',\n",
       " b'cl3d_hbm',\n",
       " b'cl3d_ntc67',\n",
       " b'cl3d_ntc90',\n",
       " b'cl3d_bdteg',\n",
       " b'cl3d_quality',\n",
       " b'cl3d_ipt',\n",
       " b'cl3d_ienergy']"
      ]
     },
     "execution_count": 11,
     "metadata": {},
     "output_type": "execute_result"
    }
   ],
   "source": [
    "test[b'hgcalTriggerNtuplizer/HGCalTriggerNtuple;1'].keys()"
   ]
  },
  {
   "cell_type": "code",
   "execution_count": 13,
   "metadata": {},
   "outputs": [],
   "source": [
    "columns=[\n",
    " 'cl3d_pt',\n",
    " 'cl3d_eta',\n",
    " 'cl3d_showerlength',\n",
    " 'cl3d_coreshowerlength',\n",
    " 'cl3d_firstlayer',\n",
    " 'cl3d_maxlayer',\n",
    " 'cl3d_seetot',\n",
    " 'cl3d_seemax',\n",
    " 'cl3d_spptot',\n",
    " 'cl3d_sppmax',\n",
    " 'cl3d_szz',\n",
    " 'cl3d_srrtot',\n",
    " 'cl3d_srrmax',\n",
    " 'cl3d_srrmean',\n",
    " 'cl3d_emaxe',\n",
    " 'cl3d_hoe',\n",
    " 'cl3d_meanz',\n",
    " 'cl3d_layer10',\n",
    " 'cl3d_layer50',\n",
    " 'cl3d_layer90',\n",
    " 'cl3d_ntc67',\n",
    " 'cl3d_ntc90',\n",
    "'cl3d_first1layers',\n",
    " 'cl3d_first3layers',\n",
    " 'cl3d_first5layers',\n",
    " 'cl3d_firstHcal1layers',\n",
    " 'cl3d_firstHcal3layers',\n",
    " 'cl3d_firstHcal5layers',\n",
    "'cl3d_last1layers',\n",
    " 'cl3d_last3layers',\n",
    " 'cl3d_last5layers',\n",
    " 'cl3d_emax1layers',\n",
    "'cl3d_emax3layers',\n",
    " 'cl3d_emax5layers',\n",
    " 'cl3d_eot',\n",
    " 'cl3d_ebm0',\n",
    " 'cl3d_ebm1',\n",
    " 'cl3d_hbm',\n",
    " 'cl3d_layer_pt',\n",
    "        ]\n",
    "df=test['hgcalTriggerNtuplizer/HGCalTriggerNtuple'].pandas.df(columns, flatten=True)"
   ]
  },
  {
   "cell_type": "code",
   "execution_count": 14,
   "metadata": {},
   "outputs": [],
   "source": [
    "df_cut=df.head(1)"
   ]
  },
  {
   "cell_type": "code",
   "execution_count": 15,
   "metadata": {},
   "outputs": [],
   "source": [
    "def tolist(x):\n",
    "    x.test=x.layer[1:-1].split(',')\n",
    "    return x.test\n",
    "\n"
   ]
  },
  {
   "cell_type": "code",
   "execution_count": null,
   "metadata": {},
   "outputs": [],
   "source": []
  },
  {
   "cell_type": "code",
   "execution_count": 16,
   "metadata": {},
   "outputs": [],
   "source": [
    "def layer(x):\n",
    "    print(x.cl3d_layer_pt[0] )\n",
    "    return x.cl3d_layer_pt[0] "
   ]
  },
  {
   "cell_type": "code",
   "execution_count": 17,
   "metadata": {},
   "outputs": [
    {
     "name": "stdout",
     "output_type": "stream",
     "text": [
      "[0.0 0.029720224 0.37568012 0.490399 0.40422967 0.29235965 0.33334866\n",
      " 0.42278042 0.25713623 0.23987353 0.06299149 0.1609852 0.18181996 0.8397\n",
      " 0.0 0.0 0.0 0.15310912 0.0 0.0 0.13029899 0.0 0.0 0.0 0.0 0.0 0.0 0.0 0.0\n",
      " 0.0 0.0 0.0 0.0 0.0 0.0 0.0]\n"
     ]
    },
    {
     "name": "stderr",
     "output_type": "stream",
     "text": [
      "/opt/exp_soft/llr/python/3.7.0/el7/lib/python3.7/site-packages/ipykernel_launcher.py:1: SettingWithCopyWarning: \n",
      "A value is trying to be set on a copy of a slice from a DataFrame.\n",
      "Try using .loc[row_indexer,col_indexer] = value instead\n",
      "\n",
      "See the caveats in the documentation: http://pandas.pydata.org/pandas-docs/stable/indexing.html#indexing-view-versus-copy\n",
      "  \"\"\"Entry point for launching an IPython kernel.\n"
     ]
    }
   ],
   "source": [
    "df_cut['layer_pt']=df_cut.apply(layer, axis=1)"
   ]
  },
  {
   "cell_type": "code",
   "execution_count": 18,
   "metadata": {},
   "outputs": [
    {
     "name": "stdout",
     "output_type": "stream",
     "text": [
      "layering: 3/36\r"
     ]
    },
    {
     "name": "stderr",
     "output_type": "stream",
     "text": [
      "/opt/exp_soft/llr/python/3.7.0/el7/lib/python3.7/site-packages/ipykernel_launcher.py:11: SettingWithCopyWarning: \n",
      "A value is trying to be set on a copy of a slice from a DataFrame.\n",
      "Try using .loc[row_indexer,col_indexer] = value instead\n",
      "\n",
      "See the caveats in the documentation: http://pandas.pydata.org/pandas-docs/stable/indexing.html#indexing-view-versus-copy\n",
      "  # This is added back by InteractiveShellApp.init_path()\n"
     ]
    },
    {
     "name": "stdout",
     "output_type": "stream",
     "text": [
      "done layering36\n"
     ]
    }
   ],
   "source": [
    "def layering (x):\n",
    "    return float(x.layer_pt[n])\n",
    "\n",
    "##besoin de créer une variable par layer?\n",
    "n_layers=len(df_cut['layer_pt'].iloc[0])\n",
    "#print(n_layers)\n",
    "layer_columns=[]\n",
    "\n",
    "for n in range(n_layers):\n",
    "    print('layering: {}/{}\\r'.format(n+1,n_layers),end='', flush=True)\n",
    "    df_cut['layer_{}'.format(n)]=df_cut.apply(layering, axis=1)\n",
    "    layer_columns.append('layer_{}'.format(n))\n",
    "print(\"done layering\")"
   ]
  },
  {
   "cell_type": "code",
   "execution_count": 19,
   "metadata": {},
   "outputs": [
    {
     "name": "stderr",
     "output_type": "stream",
     "text": [
      "/opt/exp_soft/llr/python/3.7.0/el7/lib/python3.7/site-packages/ipykernel_launcher.py:14: SettingWithCopyWarning: \n",
      "A value is trying to be set on a copy of a slice from a DataFrame.\n",
      "Try using .loc[row_indexer,col_indexer] = value instead\n",
      "\n",
      "See the caveats in the documentation: http://pandas.pydata.org/pandas-docs/stable/indexing.html#indexing-view-versus-copy\n",
      "  \n",
      "/opt/exp_soft/llr/python/3.7.0/el7/lib/python3.7/site-packages/ipykernel_launcher.py:24: SettingWithCopyWarning: \n",
      "A value is trying to be set on a copy of a slice from a DataFrame.\n",
      "Try using .loc[row_indexer,col_indexer] = value instead\n",
      "\n",
      "See the caveats in the documentation: http://pandas.pydata.org/pandas-docs/stable/indexing.html#indexing-view-versus-copy\n",
      "/opt/exp_soft/llr/python/3.7.0/el7/lib/python3.7/site-packages/ipykernel_launcher.py:33: SettingWithCopyWarning: \n",
      "A value is trying to be set on a copy of a slice from a DataFrame.\n",
      "Try using .loc[row_indexer,col_indexer] = value instead\n",
      "\n",
      "See the caveats in the documentation: http://pandas.pydata.org/pandas-docs/stable/indexing.html#indexing-view-versus-copy\n",
      "/opt/exp_soft/llr/python/3.7.0/el7/lib/python3.7/site-packages/ipykernel_launcher.py:42: SettingWithCopyWarning: \n",
      "A value is trying to be set on a copy of a slice from a DataFrame.\n",
      "Try using .loc[row_indexer,col_indexer] = value instead\n",
      "\n",
      "See the caveats in the documentation: http://pandas.pydata.org/pandas-docs/stable/indexing.html#indexing-view-versus-copy\n",
      "/opt/exp_soft/llr/python/3.7.0/el7/lib/python3.7/site-packages/ipykernel_launcher.py:51: SettingWithCopyWarning: \n",
      "A value is trying to be set on a copy of a slice from a DataFrame.\n",
      "Try using .loc[row_indexer,col_indexer] = value instead\n",
      "\n",
      "See the caveats in the documentation: http://pandas.pydata.org/pandas-docs/stable/indexing.html#indexing-view-versus-copy\n",
      "/opt/exp_soft/llr/python/3.7.0/el7/lib/python3.7/site-packages/ipykernel_launcher.py:58: SettingWithCopyWarning: \n",
      "A value is trying to be set on a copy of a slice from a DataFrame.\n",
      "Try using .loc[row_indexer,col_indexer] = value instead\n",
      "\n",
      "See the caveats in the documentation: http://pandas.pydata.org/pandas-docs/stable/indexing.html#indexing-view-versus-copy\n",
      "/opt/exp_soft/llr/python/3.7.0/el7/lib/python3.7/site-packages/ipykernel_launcher.py:65: SettingWithCopyWarning: \n",
      "A value is trying to be set on a copy of a slice from a DataFrame.\n",
      "Try using .loc[row_indexer,col_indexer] = value instead\n",
      "\n",
      "See the caveats in the documentation: http://pandas.pydata.org/pandas-docs/stable/indexing.html#indexing-view-versus-copy\n",
      "/opt/exp_soft/llr/python/3.7.0/el7/lib/python3.7/site-packages/ipykernel_launcher.py:72: SettingWithCopyWarning: \n",
      "A value is trying to be set on a copy of a slice from a DataFrame.\n",
      "Try using .loc[row_indexer,col_indexer] = value instead\n",
      "\n",
      "See the caveats in the documentation: http://pandas.pydata.org/pandas-docs/stable/indexing.html#indexing-view-versus-copy\n",
      "/opt/exp_soft/llr/python/3.7.0/el7/lib/python3.7/site-packages/ipykernel_launcher.py:78: SettingWithCopyWarning: \n",
      "A value is trying to be set on a copy of a slice from a DataFrame.\n",
      "Try using .loc[row_indexer,col_indexer] = value instead\n",
      "\n",
      "See the caveats in the documentation: http://pandas.pydata.org/pandas-docs/stable/indexing.html#indexing-view-versus-copy\n",
      "/opt/exp_soft/llr/python/3.7.0/el7/lib/python3.7/site-packages/ipykernel_launcher.py:84: SettingWithCopyWarning: \n",
      "A value is trying to be set on a copy of a slice from a DataFrame.\n",
      "Try using .loc[row_indexer,col_indexer] = value instead\n",
      "\n",
      "See the caveats in the documentation: http://pandas.pydata.org/pandas-docs/stable/indexing.html#indexing-view-versus-copy\n",
      "/opt/exp_soft/llr/python/3.7.0/el7/lib/python3.7/site-packages/ipykernel_launcher.py:90: SettingWithCopyWarning: \n",
      "A value is trying to be set on a copy of a slice from a DataFrame.\n",
      "Try using .loc[row_indexer,col_indexer] = value instead\n",
      "\n",
      "See the caveats in the documentation: http://pandas.pydata.org/pandas-docs/stable/indexing.html#indexing-view-versus-copy\n",
      "/opt/exp_soft/llr/python/3.7.0/el7/lib/python3.7/site-packages/ipykernel_launcher.py:117: SettingWithCopyWarning: \n",
      "A value is trying to be set on a copy of a slice from a DataFrame.\n",
      "Try using .loc[row_indexer,col_indexer] = value instead\n",
      "\n",
      "See the caveats in the documentation: http://pandas.pydata.org/pandas-docs/stable/indexing.html#indexing-view-versus-copy\n",
      "/opt/exp_soft/llr/python/3.7.0/el7/lib/python3.7/site-packages/ipykernel_launcher.py:118: SettingWithCopyWarning: \n",
      "A value is trying to be set on a copy of a slice from a DataFrame.\n",
      "Try using .loc[row_indexer,col_indexer] = value instead\n",
      "\n",
      "See the caveats in the documentation: http://pandas.pydata.org/pandas-docs/stable/indexing.html#indexing-view-versus-copy\n",
      "/opt/exp_soft/llr/python/3.7.0/el7/lib/python3.7/site-packages/ipykernel_launcher.py:119: SettingWithCopyWarning: \n",
      "A value is trying to be set on a copy of a slice from a DataFrame.\n",
      "Try using .loc[row_indexer,col_indexer] = value instead\n",
      "\n",
      "See the caveats in the documentation: http://pandas.pydata.org/pandas-docs/stable/indexing.html#indexing-view-versus-copy\n"
     ]
    }
   ],
   "source": [
    "#EoT: pt(Ecal)/pt(Tot)\n",
    "nLayerEcal= 14\n",
    "sumE=0\n",
    "\n",
    "sumT=0\n",
    "for i in range(n_layers):\n",
    "    #print('Totlayer_{}'.format(i))\n",
    "    sumT+=df_cut['layer_{}'.format(i)]\n",
    "    \n",
    "    \n",
    "for i in range(1,nLayerEcal+1):\n",
    "    #print('Ecal layer_{}'.format(i))\n",
    "    sumE+=df_cut['layer_{}'.format(i)]\n",
    "df_cut['EoT']=sumE/sumT\n",
    "\n",
    "#fraction of pt in first x  layers and last x layers\n",
    "maxfirst = 5\n",
    "maxlast=10\n",
    "\n",
    "for n in range(1,maxfirst+1):\n",
    "    Sum=0\n",
    "    for i in range(1,n+1):\n",
    "        Sum+=df_cut['layer_{}'.format(i)]\n",
    "    df_cut['first_{}'.format(n)]= Sum/sumT\n",
    "    \n",
    "for n in range(1,maxlast):\n",
    "    Sum=0\n",
    "    #print(n, ' layers')\n",
    "    for i in range(n_layers - n, n_layers):\n",
    "        #print(n,i)\n",
    "        Sum+=df_cut['layer_{}'.format(i)]\n",
    "    #print('last_{}'.format(n), sum/sumT)\n",
    "    df_cut['last_{}'.format(n)]= Sum/sumT\n",
    "    \n",
    "    \n",
    "\n",
    "for n in range(1,maxfirst+1):\n",
    "    Sum=0\n",
    "    for i in range(1,n+1):\n",
    "        #print('layer_{}'.format(nLayerEcal+i))\n",
    "        Sum+=df_cut['layer_{}'.format(nLayerEcal+i)]\n",
    "    df_cut['firstHcal_{}'.format(n)]= Sum/sumT\n",
    "    \n",
    "    \n",
    "# Emaxx : pt in x layers around Elec max layer (5)\n",
    "maxpos=5\n",
    "\n",
    "#print('emax_1')\n",
    "Sum=0\n",
    "Sum+=df_cut['layer_{}'.format(maxpos)]\n",
    "df_cut['Emax_1']=Sum/sumT\n",
    " \n",
    "#print('emax_2L')\n",
    "Sum=0\n",
    "for i in range(maxpos-1, maxpos+1):\n",
    "    #print(i)\n",
    "    Sum+=df_cut['layer_{}'.format(i)]\n",
    "    df_cut['Emax_2L']=Sum/sumT\n",
    "    \n",
    "#print('emax_2R')\n",
    "Sum=0\n",
    "for i in range(maxpos, maxpos+2):\n",
    "    #print(i)\n",
    "    Sum+=df_cut['layer_{}'.format(i)]\n",
    "    df_cut['Emax_2R']=Sum/sumT\n",
    "    \n",
    "#print('emax_3')\n",
    "Sum=0\n",
    "for i in range(maxpos-1, maxpos+2):\n",
    "    #print(i)\n",
    "    Sum+=df_cut['layer_{}'.format(i)]\n",
    "    df_cut['Emax_3']=Sum/sumT\n",
    "#print('emax_4G')\n",
    "Sum=0\n",
    "for i in range(maxpos-2, maxpos+2):\n",
    "    #print(i)\n",
    "    Sum+=df_cut['layer_{}'.format(i)]\n",
    "    df_cut['Emax_4L']=Sum/sumT\n",
    "#print('emax_4R')\n",
    "Sum=0\n",
    "for i in range(maxpos-1, maxpos+3):\n",
    "    #print(i)\n",
    "    Sum+=df_cut['layer_{}'.format(i)]\n",
    "    df_cut['Emax_4R']=Sum/sumT\n",
    "#print('emax_5')\n",
    "Sum=0\n",
    "for i in range(maxpos-2, maxpos+3):\n",
    "    #print(i)\n",
    "    Sum+=df_cut['layer_{}'.format(i)]\n",
    "    df_cut['Emax_5']=Sum/sumT\n",
    "    \n",
    "def ebm0(x):\n",
    "    ebm=[]\n",
    "    thr=0\n",
    "    for i in range(1,nLayerEcal+1):\n",
    "        #print(float(x.layer_pt[i])>thr)\n",
    "        ebm.append(int(float(x.layer_pt[i])>thr)) \n",
    "    #print(ebm)\n",
    "    return(np.array(ebm).dot(2**np.arange(len(ebm))[::-1]))\n",
    "def ebm1(x):\n",
    "    ebm=[]\n",
    "    thr=1\n",
    "    for i in range(1,nLayerEcal+1):\n",
    "        #print(float(x.layer_pt[i])>thr)\n",
    "        ebm.append(int(float(x.layer_pt[i])>thr)) \n",
    "    #print(ebm)\n",
    "    return(np.array(ebm).dot(2**np.arange(len(ebm))[::-1]))\n",
    "def hbm(x):\n",
    "    ebm=[]\n",
    "    thr=0\n",
    "    for i in range(nLayerEcal+1,n_layers):\n",
    "        #print(float(x.layer_pt[i])>thr)\n",
    "        ebm.append(int(float(x.layer_pt[i])>thr)) \n",
    "    #print(ebm)\n",
    "    return(np.array(ebm).dot(2**np.arange(len(ebm))[::-1]))\n",
    "        \n",
    "df_cut['ebm0']=df_cut.apply(ebm0, axis=1)\n",
    "df_cut['ebm1']=df_cut.apply(ebm1, axis=1)\n",
    "df_cut['hbm']=df_cut.apply(hbm, axis=1)    \n",
    "    "
   ]
  },
  {
   "cell_type": "code",
   "execution_count": 20,
   "metadata": {},
   "outputs": [
    {
     "name": "stdout",
     "output_type": "stream",
     "text": [
      "Index(['cl3d_pt', 'cl3d_eta', 'cl3d_showerlength', 'cl3d_coreshowerlength',\n",
      "       'cl3d_firstlayer', 'cl3d_maxlayer', 'cl3d_seetot', 'cl3d_seemax',\n",
      "       'cl3d_spptot', 'cl3d_sppmax',\n",
      "       ...\n",
      "       'Emax_1', 'Emax_2L', 'Emax_2R', 'Emax_3', 'Emax_4L', 'Emax_4R',\n",
      "       'Emax_5', 'ebm0', 'ebm1', 'hbm'],\n",
      "      dtype='object', length=106)\n"
     ]
    }
   ],
   "source": [
    "print(df_cut.columns)"
   ]
  },
  {
   "cell_type": "code",
   "execution_count": 21,
   "metadata": {},
   "outputs": [
    {
     "data": {
      "text/plain": [
       "entry  subentry\n",
       "0      0           0.0\n",
       "Name: cl3d_first3layers, dtype: float32"
      ]
     },
     "execution_count": 21,
     "metadata": {},
     "output_type": "execute_result"
    }
   ],
   "source": [
    "df_cut['cl3d_first3layers']*3.488178"
   ]
  },
  {
   "cell_type": "code",
   "execution_count": 22,
   "metadata": {},
   "outputs": [
    {
     "data": {
      "text/plain": [
       "entry  subentry\n",
       "0      0           0.714312\n",
       "Name: first_3, dtype: float64"
      ]
     },
     "execution_count": 22,
     "metadata": {},
     "output_type": "execute_result"
    }
   ],
   "source": [
    "df_cut['first_3']*3.488178"
   ]
  },
  {
   "cell_type": "code",
   "execution_count": 23,
   "metadata": {},
   "outputs": [
    {
     "data": {
      "text/plain": [
       "array([0.029720224, 0.37568012, 0.490399, 0.40422967, 0.29235965,\n",
       "       0.33334866, 0.42278042, 0.25713623, 0.23987353, 0.06299149,\n",
       "       0.1609852, 0.18181996, 0.8397], dtype=object)"
      ]
     },
     "execution_count": 23,
     "metadata": {},
     "output_type": "execute_result"
    }
   ],
   "source": [
    "df_cut['layer_pt'].values[0][1:14]"
   ]
  },
  {
   "cell_type": "code",
   "execution_count": 46,
   "metadata": {},
   "outputs": [
    {
     "data": {
      "text/plain": [
       "4.374432250857353"
      ]
     },
     "execution_count": 46,
     "metadata": {},
     "output_type": "execute_result"
    }
   ],
   "source": [
    "sum(df_cut['layer_pt'].iloc[0])"
   ]
  },
  {
   "cell_type": "code",
   "execution_count": 25,
   "metadata": {},
   "outputs": [
    {
     "data": {
      "text/plain": [
       "entry  subentry\n",
       "0      0           4.374432\n",
       "Name: layer_0, dtype: float64"
      ]
     },
     "execution_count": 25,
     "metadata": {},
     "output_type": "execute_result"
    }
   ],
   "source": [
    "sumT"
   ]
  },
  {
   "cell_type": "code",
   "execution_count": 26,
   "metadata": {},
   "outputs": [
    {
     "data": {
      "text/plain": [
       "entry  subentry\n",
       "0      0           0.067941\n",
       "Name: layer_0, dtype: float64"
      ]
     },
     "execution_count": 26,
     "metadata": {},
     "output_type": "execute_result"
    }
   ],
   "source": [
    "0.29720224/sumT"
   ]
  },
  {
   "cell_type": "code",
   "execution_count": 27,
   "metadata": {},
   "outputs": [
    {
     "data": {
      "text/plain": [
       "entry  subentry\n",
       "0      0           0.034335\n",
       "Name: layer_0, dtype: float64"
      ]
     },
     "execution_count": 27,
     "metadata": {},
     "output_type": "execute_result"
    }
   ],
   "source": [
    "0.007849*sumT"
   ]
  },
  {
   "cell_type": "code",
   "execution_count": 43,
   "metadata": {},
   "outputs": [
    {
     "data": {
      "text/plain": [
       "array([0.0, 0.029720224, 0.37568012, 0.490399, 0.40422967, 0.29235965,\n",
       "       0.33334866, 0.42278042, 0.25713623, 0.23987353, 0.06299149,\n",
       "       0.1609852, 0.18181996, 0.8397, 0.0, 0.0, 0.0, 0.15310912, 0.0, 0.0,\n",
       "       0.13029899, 0.0, 0.0, 0.0, 0.0, 0.0, 0.0, 0.0, 0.0, 0.0, 0.0, 0.0,\n",
       "       0.0, 0.0, 0.0, 0.0], dtype=object)"
      ]
     },
     "execution_count": 43,
     "metadata": {},
     "output_type": "execute_result"
    }
   ],
   "source": [
    "df_cut['layer_pt'].values[0]"
   ]
  },
  {
   "cell_type": "code",
   "execution_count": 36,
   "metadata": {},
   "outputs": [
    {
     "data": {
      "text/plain": [
       "entry  subentry\n",
       "0      0           16382\n",
       "Name: ebm0, dtype: int64"
      ]
     },
     "execution_count": 36,
     "metadata": {},
     "output_type": "execute_result"
    }
   ],
   "source": [
    "df_cut['ebm0']"
   ]
  },
  {
   "cell_type": "code",
   "execution_count": 30,
   "metadata": {},
   "outputs": [
    {
     "name": "stdout",
     "output_type": "stream",
     "text": [
      "1\n",
      "2\n",
      "3\n",
      "4\n",
      "5\n",
      "6\n",
      "7\n",
      "8\n",
      "9\n",
      "10\n",
      "11\n",
      "12\n",
      "13\n",
      "[1, 1, 1, 1, 1, 1, 1, 1, 1, 1, 1, 1, 1]\n"
     ]
    },
    {
     "data": {
      "text/plain": [
       "8191"
      ]
     },
     "execution_count": 30,
     "metadata": {},
     "output_type": "execute_result"
    }
   ],
   "source": [
    "x=df_cut['layer_pt'].values[0]\n",
    "ebm=[]\n",
    "thr=0\n",
    "for i in range(1,nLayerEcal):\n",
    "    print(i)\n",
    "    #print(float(x.layer_pt[i])>thr)\n",
    "    ebm.append(int(float(x[i])>thr)) \n",
    "print(ebm)\n",
    "(np.array(ebm).dot(2**np.arange(len(ebm))[::-1]))"
   ]
  },
  {
   "cell_type": "code",
   "execution_count": 31,
   "metadata": {},
   "outputs": [
    {
     "name": "stdout",
     "output_type": "stream",
     "text": [
      "14\n",
      "15\n",
      "16\n",
      "17\n",
      "18\n",
      "19\n",
      "20\n",
      "21\n",
      "22\n",
      "23\n",
      "24\n",
      "25\n",
      "26\n",
      "27\n",
      "28\n",
      "29\n",
      "30\n",
      "31\n",
      "32\n",
      "33\n",
      "34\n",
      "35\n",
      "[0, 0, 0, 1, 0, 0, 1, 0, 0, 0, 0, 0, 0, 0, 0, 0, 0, 0, 0, 0, 0, 0]\n"
     ]
    },
    {
     "data": {
      "text/plain": [
       "294912"
      ]
     },
     "execution_count": 31,
     "metadata": {},
     "output_type": "execute_result"
    }
   ],
   "source": [
    "x=df_cut['layer_pt'].values[0]\n",
    "ebm=[]\n",
    "thr=0\n",
    "for i in range(nLayerEcal,n_layers):\n",
    "    print(i)\n",
    "    #print(float(x.layer_pt[i])>thr)\n",
    "    ebm.append(int(float(x[i])>thr)) \n",
    "print(ebm)\n",
    "(np.array(ebm).dot(2**np.arange(len(ebm))[::-1]))"
   ]
  },
  {
   "cell_type": "code",
   "execution_count": 32,
   "metadata": {},
   "outputs": [
    {
     "data": {
      "text/plain": [
       "1179648"
      ]
     },
     "execution_count": 32,
     "metadata": {},
     "output_type": "execute_result"
    }
   ],
   "source": [
    "ebm= [0, 0, 1, 0, 0, 1, 0, 0, 0, 0, 0, 0, 0, 0, 0, 0, 0, 0, 0, 0, 0,0,0]\n",
    "(np.array(ebm).dot(2**np.arange(len(ebm))[::-1]))"
   ]
  },
  {
   "cell_type": "code",
   "execution_count": 33,
   "metadata": {},
   "outputs": [
    {
     "data": {
      "text/plain": [
       "entry  subentry\n",
       "0      0           294912\n",
       "Name: hbm, dtype: int64"
      ]
     },
     "execution_count": 33,
     "metadata": {},
     "output_type": "execute_result"
    }
   ],
   "source": [
    "df_cut['hbm']"
   ]
  },
  {
   "cell_type": "code",
   "execution_count": 34,
   "metadata": {},
   "outputs": [
    {
     "data": {
      "text/plain": [
       "entry  subentry\n",
       "0      0           0\n",
       "       1           0\n",
       "       2           0\n",
       "       3           0\n",
       "       4           0\n",
       "       5           0\n",
       "       6           0\n",
       "       7           0\n",
       "       8           0\n",
       "       9           0\n",
       "       10          0\n",
       "       11          0\n",
       "       12          0\n",
       "       13          0\n",
       "       14          0\n",
       "       15          0\n",
       "       16          0\n",
       "       17          0\n",
       "       18          0\n",
       "       19          0\n",
       "       20          0\n",
       "       21          0\n",
       "       22          0\n",
       "       23          0\n",
       "       24          0\n",
       "       25          0\n",
       "       26          0\n",
       "       27          0\n",
       "       28          0\n",
       "       29          0\n",
       "                  ..\n",
       "       147         0\n",
       "       148         0\n",
       "       149         0\n",
       "       150         0\n",
       "       151         0\n",
       "       152         0\n",
       "       153         0\n",
       "       154         0\n",
       "       155         0\n",
       "       156         0\n",
       "       157         0\n",
       "       158         0\n",
       "       159         0\n",
       "       160         0\n",
       "       161         0\n",
       "       162         0\n",
       "       163         0\n",
       "       164         0\n",
       "       165         0\n",
       "       166         0\n",
       "       167         0\n",
       "       168         0\n",
       "       169         0\n",
       "       170         0\n",
       "       171         0\n",
       "       172         0\n",
       "       173         0\n",
       "       174         0\n",
       "       175         0\n",
       "       176         0\n",
       "Name: cl3d_hbm, Length: 177, dtype: int32"
      ]
     },
     "execution_count": 34,
     "metadata": {},
     "output_type": "execute_result"
    }
   ],
   "source": [
    "df['cl3d_hbm']"
   ]
  },
  {
   "cell_type": "code",
   "execution_count": 35,
   "metadata": {},
   "outputs": [
    {
     "ename": "SyntaxError",
     "evalue": "invalid syntax (<ipython-input-35-fb07cfe36d61>, line 1)",
     "output_type": "error",
     "traceback": [
      "\u001b[0;36m  File \u001b[0;32m\"<ipython-input-35-fb07cfe36d61>\"\u001b[0;36m, line \u001b[0;32m1\u001b[0m\n\u001b[0;31m    50layers, 28 ecal -> 32 hcal\u001b[0m\n\u001b[0m           ^\u001b[0m\n\u001b[0;31mSyntaxError\u001b[0m\u001b[0;31m:\u001b[0m invalid syntax\n"
     ]
    }
   ],
   "source": [
    "50layers, 28 ecal -> 32 hcal"
   ]
  },
  {
   "cell_type": "code",
   "execution_count": null,
   "metadata": {},
   "outputs": [],
   "source": []
  },
  {
   "cell_type": "code",
   "execution_count": null,
   "metadata": {},
   "outputs": [],
   "source": []
  }
 ],
 "metadata": {
  "kernelspec": {
   "display_name": "Python 3",
   "language": "python",
   "name": "python3"
  },
  "language_info": {
   "codemirror_mode": {
    "name": "ipython",
    "version": 3
   },
   "file_extension": ".py",
   "mimetype": "text/x-python",
   "name": "python",
   "nbconvert_exporter": "python",
   "pygments_lexer": "ipython3",
   "version": "3.7.0"
  }
 },
 "nbformat": 4,
 "nbformat_minor": 2
}
